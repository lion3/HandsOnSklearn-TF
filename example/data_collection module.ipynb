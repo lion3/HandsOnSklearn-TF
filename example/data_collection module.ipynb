{
 "cells": [
  {
   "cell_type": "code",
   "execution_count": 1,
   "metadata": {},
   "outputs": [],
   "source": [
    "# head module import\n",
    "from __future__ import print_function\n",
    "\n",
    "from mbientlab.metawear import MetaWear, libmetawear, parse_value, create_voidp, create_voidp_int\n",
    "\n",
    "from mbientlab.metawear.cbindings import *\n",
    "\n",
    "from mbientlab.warble import * \n",
    "from threading import Event\n",
    "from time import sleep\n",
    "\n",
    "import csv\n",
    "import time\n",
    "import platform\n",
    "import six # six is lib to coordinate py2 and py3\n",
    "import sys"
   ]
  },
  {
   "cell_type": "code",
   "execution_count": 2,
   "metadata": {},
   "outputs": [],
   "source": [
    "# check python version\n",
    "if sys.version_info[0] == 2:\n",
    "\n",
    "    range = xrange"
   ]
  },
  {
   "cell_type": "code",
   "execution_count": 9,
   "metadata": {},
   "outputs": [
    {
     "name": "stdout",
     "output_type": "stream",
     "text": [
      "scanning for devices...\n",
      "[0] F1:3E:CC:8F:98:89 (MetaWear)\n",
      "[1] F9:C7:50:6F:77:60 ()\n",
      "[2] 41:0A:F9:64:A8:1D ()\n",
      "Select your device (-1 to rescan): 0\n"
     ]
    }
   ],
   "source": [
    "# device scan and connect\n",
    "selection = -1\n",
    "\n",
    "devices = None # all available devices\n",
    "\n",
    "scan_time = 10.0\n",
    "\n",
    "while selection == -1:\n",
    "    \n",
    "    print(\"scanning for devices...\")\n",
    "\n",
    "    devices = {}\n",
    "    # def scanner's result handler, add result to dvices\n",
    "    def handler(result):\n",
    "        devices[result.mac] = result.name\n",
    "    \n",
    "    BleScanner.set_handler(handler)\n",
    "    BleScanner.start()\n",
    "    # set scan time, waiting to scan;\n",
    "    sleep(scan_time)\n",
    "    BleScanner.stop()\n",
    "    \n",
    "    #select which to connect\n",
    "    devices_index = 0\n",
    "    for address, name in six.iteritems(devices):\n",
    "        print(\"[%d] %s (%s)\" % (devices_index, address, name))\n",
    "        devices_index += 1\n",
    "    msg = \"Select your device (-1 to rescan): \"\n",
    "    selection = int(raw_input(msg) if platform.python_version_tuple()[0] == '2'\n",
    "                    else input(msg))\n"
   ]
  },
  {
   "cell_type": "code",
   "execution_count": 10,
   "metadata": {
    "scrolled": true
   },
   "outputs": [
    {
     "name": "stdout",
     "output_type": "stream",
     "text": [
      "Connecting to F1:3E:CC:8F:98:89...\n",
      "Connected\n",
      "Device information: {'model': '5', 'hardware': '0.3', 'manufacturer': 'MbientLab Inc', 'serial': '049954', 'firmware': '1.4.2'}\n"
     ]
    }
   ],
   "source": [
    "# get chosed devices mac address                    \n",
    "address = list(devices)[selection]\n",
    "                    \n",
    "print(\"Connecting to %s...\" % (address))\n",
    "# connect to device                   \n",
    "device = MetaWear(address)\n",
    "device.connect()\n",
    "print(\"Connected\")\n",
    "\n",
    "print(\"Device information: \" + str(device.info))\n",
    "         "
   ]
  },
  {
   "cell_type": "code",
   "execution_count": 8,
   "metadata": {},
   "outputs": [],
   "source": [
    "libmetawear.mbl_mw_debug_reset(device.board)"
   ]
  },
  {
   "cell_type": "code",
   "execution_count": 11,
   "metadata": {},
   "outputs": [],
   "source": [
    "# acc configuration\n",
    "def acc_configuaration(device,acc_freq, acc_rng):\n",
    "    acc_frequency = acc_freq\n",
    "    acc_range = acc_rng\n",
    "    libmetawear.mbl_mw_acc_set_odr(device.board, acc_frequency)\n",
    "    libmetawear.mbl_mw_acc_set_odr(device.board, acc_range)\n",
    "    libmetawear.mbl_mw_acc_write_acceleration_config(device.board);\n",
    "    print(\"set acc frequency [%d], acc range [%d]\" %(acc_freq, acc_rng))"
   ]
  },
  {
   "cell_type": "code",
   "execution_count": 12,
   "metadata": {},
   "outputs": [],
   "source": [
    "# init signal and logger\n",
    "def init_acc_signal_logger(device):\n",
    "    # signal\n",
    "    signal = libmetawear.mbl_mw_acc_get_acceleration_data_signal(device.board)\n",
    "    # logger\n",
    "    logger = create_voidp(lambda fn:libmetawear.mbl_mw_datasignal_log(signal, None, fn), resource = \"acc_logger\")\n",
    "    print(\"finished init acc_signal and logger \")\n",
    "    return logger"
   ]
  },
  {
   "cell_type": "code",
   "execution_count": 13,
   "metadata": {},
   "outputs": [],
   "source": [
    "# connection setting\n",
    "def init_connection_setting(device):\n",
    "    libmetawear.mbl_mw_settings_set_connection_parameters(device.board, 7.5, 7.5, 0, 6000)\n",
    "    sleep(1.0)\n",
    "    print(\"finished connection setting\")"
   ]
  },
  {
   "cell_type": "code",
   "execution_count": 14,
   "metadata": {},
   "outputs": [],
   "source": [
    "# start log and acc sampling\n",
    "def sampling_and_log_acc(device,time):\n",
    "    libmetawear.mbl_mw_logging_start(device.board,0)\n",
    "    libmetawear.mbl_mw_acc_enable_acceleration_sampling(device.board)\n",
    "    libmetawear.mbl_mw_acc_start(device.board)\n",
    "    print(\"start sampling data\")\n",
    "    # wait to log\n",
    "    logging_time = time\n",
    "    sleep(logging_time)\n",
    "    # stop logging\n",
    "    print(\"stop sampling data\")\n",
    "    libmetawear.mbl_mw_acc_stop(device.board)\n",
    "    libmetawear.mbl_mw_acc_disable_acceleration_sampling(device.board)\n",
    "    libmetawear.mbl_mw_logging_stop(device.board)\n",
    "    "
   ]
  },
  {
   "cell_type": "code",
   "execution_count": 9,
   "metadata": {},
   "outputs": [],
   "source": [
    "# downloading data setting\n",
    "def init_download_data_setting():\n",
    "    print(\"Setting Download data\")\n",
    "    # progress_update_handler\n",
    "    global e\n",
    "    e = Event()\n",
    "    def progress_update_handler(context, entries_left, total_entries):\n",
    "        if (entries_left == 0):\n",
    "            e.set()\n",
    "            print(\"Finished download data\")\n",
    "            \n",
    "    fn_wrapper = FnVoid_VoidP_UInt_UInt(progress_update_handler) # wrap function    \n",
    "    download_handler = LogDownloadHandler(context = None, \\\n",
    "                                     received_progress_update = fn_wrapper, \\\n",
    "                                     received_unknown_entry = cast(None, FnVoid_VoidP_UByte_Long_UByteP_UByte), \\\n",
    "                                     received_unhandled_entry = cast(None, FnVoid_VoidP_DataP))\n",
    "    # data callback function\n",
    "    def data_callback(context, p):\n",
    "        print(\"{epoch: %d, value: %s}\" % (p.contents.epoch, parse_value(p)))\n",
    "        # print(cast(p.contents.value, POINTER(CartesianFloat)).contents.x) debug全靠输出\n",
    "        timestamp = str(context)\n",
    "        csvfile = open('acc_data_%s.csv'%timestamp, 'a',newline='')\n",
    "        writer = csv.writer(csvfile)\n",
    "        # writer.writerow(str(parse_value(p)))\n",
    "        data = parse_value(p)\n",
    "        writer.writerow([data.x, data.y,data.z])\n",
    "        # writer.writerow([p.contents.value])\n",
    "              \n",
    "    # callback = FnVoid_VoidP_DataP(lambda ctx, p: print(\"{epoch: %d, value: %s}\" % (p.contents.epoch, parse_value(p))))\n",
    "    callback = FnVoid_VoidP_DataP(data_callback)\n",
    "    print(\"finished init download setting \")\n",
    "    return [download_handler, callback]"
   ]
  },
  {
   "cell_type": "code",
   "execution_count": 15,
   "metadata": {},
   "outputs": [],
   "source": [
    "# downloading data setting\n",
    "def init_download_data_setting():\n",
    "    print(\"Setting Download data\")\n",
    "    # progress_update_handler\n",
    "    global e\n",
    "    e = Event()\n",
    "    def progress_update_handler(context, entries_left, total_entries):\n",
    "        if (entries_left == 0):\n",
    "            e.set()\n",
    "            print(\"Finished download data\")\n",
    "            \n",
    "    fn_wrapper = FnVoid_VoidP_UInt_UInt(progress_update_handler) # wrap function    \n",
    "    download_handler = LogDownloadHandler(context = None, \\\n",
    "                                     received_progress_update = fn_wrapper, \\\n",
    "                                     received_unknown_entry = cast(None, FnVoid_VoidP_UByte_Long_UByteP_UByte), \\\n",
    "                                     received_unhandled_entry = cast(None, FnVoid_VoidP_DataP))\n",
    "    # data callback function\n",
    "    def data_callback(context, p):\n",
    "        print(\"{epoch: %d, value: %s}\" % (p.contents.epoch, parse_value(p)))\n",
    "        data = parse_value(p)\n",
    "        filename = cast(context,c_wchar_p)\n",
    "        csvfile = open(filename.value, 'a',newline='')\n",
    "        writer = csv.writer(csvfile)\n",
    "        writer.writerow([data.x, data.y,data.z])\n",
    "      \n",
    "    # callback = FnVoid_VoidP_DataP(lambda ctx, p: print(\"{epoch: %d, value: %s}\" % (p.contents.epoch, parse_value(p))))\n",
    "    callback = FnVoid_VoidP_DataP(data_callback)\n",
    "    print(\"finished init download setting \")\n",
    "    return [download_handler, callback]"
   ]
  },
  {
   "cell_type": "code",
   "execution_count": 16,
   "metadata": {},
   "outputs": [],
   "source": [
    "# downloading data\n",
    "def downloading_data(device,logger,callback,download_handler):\n",
    "    print(\"Downloading data\")\n",
    "    timestamp = time.strftime(\"%y_%m_%d_%H_%M_%S\")\n",
    "    print(type(timestamp))\n",
    "    print(timestamp)\n",
    "    filename_ = ('acc_data_%s.csv'%timestamp)\n",
    "    csvfile = open(filename_, 'w',newline='')\n",
    "    filename = c_wchar_p(filename_)\n",
    "    libmetawear.mbl_mw_logger_subscribe(logger, filename, callback)\n",
    "    # libmetawear.mbl_mw_logger_subscribe(logger, filename, callback)\n",
    "    libmetawear.mbl_mw_logging_download(device.board, 0, byref(download_handler))\n",
    "    \n",
    "    e.wait()"
   ]
  },
  {
   "cell_type": "code",
   "execution_count": 15,
   "metadata": {},
   "outputs": [],
   "source": [
    "# downloading data\n",
    "def downloading_data(device,logger,callback,download_handler):\n",
    "    print(\"Downloading data\")\n",
    "    timestamp = c_int(int(time.time()))\n",
    "    # csvfile = open('acc_data_%s.csv'%timestamp, 'w',newline='')\n",
    "    # writer = csv.writer(csvfile)\n",
    "    timestamp_ptr = pointer(timestamp)\n",
    "    libmetawear.mbl_mw_logger_subscribe(logger, timestamp_ptr, callback)\n",
    "    libmetawear.mbl_mw_logging_download(device.board, 0, byref(download_handler))\n",
    "    \n",
    "    e.wait()"
   ]
  },
  {
   "cell_type": "code",
   "execution_count": 17,
   "metadata": {},
   "outputs": [
    {
     "name": "stdout",
     "output_type": "stream",
     "text": [
      "set acc frequency [25], acc range [4]\n",
      "finished connection setting\n",
      "finished init acc_signal and logger \n"
     ]
    }
   ],
   "source": [
    "logger = None\n",
    "callback = None\n",
    "download_handler = None\n",
    "e = None\n",
    "acc_configuaration(device,25.0,4.0)\n",
    "init_connection_setting(device)\n",
    "logger = init_acc_signal_logger(device)\n"
   ]
  },
  {
   "cell_type": "code",
   "execution_count": 18,
   "metadata": {
    "scrolled": true
   },
   "outputs": [
    {
     "name": "stdout",
     "output_type": "stream",
     "text": [
      "Setting Download data\n",
      "finished init download setting \n",
      "start sampling data\n",
      "stop sampling data\n",
      "Downloading data\n",
      "<class 'str'>\n",
      "19_03_13_20_54_42\n",
      "{epoch: 1552481416177, value: {x : -0.076, y : -0.012, z : -1.005}}\n",
      "{epoch: 1552481416501, value: {x : -0.071, y : -0.012, z : -1.009}}\n",
      "{epoch: 1552481416826, value: {x : -0.073, y : -0.010, z : -1.014}}\n",
      "{epoch: 1552481417150, value: {x : -0.070, y : -0.018, z : -0.995}}\n",
      "{epoch: 1552481417473, value: {x : -0.065, y : -0.009, z : -1.005}}\n",
      "{epoch: 1552481417799, value: {x : -0.073, y : -0.014, z : -1.005}}\n",
      "{epoch: 1552481418122, value: {x : -0.073, y : -0.015, z : -1.009}}\n",
      "{epoch: 1552481418446, value: {x : -0.070, y : -0.022, z : -1.011}}\n",
      "{epoch: 1552481418771, value: {x : -0.070, y : -0.012, z : -1.016}}\n",
      "{epoch: 1552481419095, value: {x : -0.075, y : -0.012, z : -1.004}}\n",
      "{epoch: 1552481419419, value: {x : -0.078, y : -0.023, z : -1.006}}\n",
      "{epoch: 1552481419744, value: {x : 0.209, y : -0.404, z : -1.323}}\n",
      "{epoch: 1552481420068, value: {x : -0.088, y : 0.103, z : -0.457}}\n",
      "{epoch: 1552481420391, value: {x : -0.639, y : 0.014, z : -1.196}}\n",
      "{epoch: 1552481420715, value: {x : -0.655, y : -0.564, z : -0.664}}\n",
      "{epoch: 1552481421040, value: {x : -0.640, y : -0.572, z : -0.681}}\n",
      "{epoch: 1552481452490, value: {x : 0.516, y : -0.508, z : -0.774}}\n",
      "{epoch: 1552481452816, value: {x : 0.225, y : -0.901, z : -0.722}}\n",
      "{epoch: 1552481453139, value: {x : -0.678, y : -0.165, z : 0.627}}\n",
      "{epoch: 1552481453463, value: {x : -0.144, y : -0.239, z : 1.133}}\n",
      "{epoch: 1552481453787, value: {x : 0.220, y : -0.364, z : -0.710}}\n",
      "{epoch: 1552481454112, value: {x : 0.089, y : 0.310, z : -0.927}}\n",
      "{epoch: 1552481454436, value: {x : 0.659, y : 0.038, z : -0.878}}\n",
      "{epoch: 1552481454760, value: {x : -0.456, y : -0.895, z : -0.621}}\n",
      "{epoch: 1552481455085, value: {x : -0.311, y : -0.335, z : 1.155}}\n",
      "{epoch: 1552481455408, value: {x : -0.647, y : -0.314, z : -0.045}}\n",
      "{epoch: 1552481455732, value: {x : -0.969, y : 0.261, z : -0.215}}\n",
      "{epoch: 1552481456057, value: {x : -0.031, y : -0.344, z : -0.932}}\n",
      "{epoch: 1552481456381, value: {x : 0.437, y : 0.048, z : -0.684}}\n",
      "{epoch: 1552481456705, value: {x : 0.837, y : 0.054, z : -0.916}}\n",
      "{epoch: 1552481457030, value: {x : -0.539, y : -0.462, z : 0.018}}\n",
      "{epoch: 1552481457354, value: {x : -0.483, y : -0.233, z : 0.384}}\n",
      "{epoch: 1552481678260, value: {x : -0.078, y : -0.026, z : -1.004}}\n",
      "{epoch: 1552481678584, value: {x : -0.075, y : -0.012, z : -1.010}}\n",
      "{epoch: 1552481678908, value: {x : -0.075, y : -0.016, z : -1.007}}\n",
      "{epoch: 1552481679233, value: {x : -0.080, y : -0.020, z : -1.012}}\n",
      "{epoch: 1552481679556, value: {x : -0.077, y : -0.018, z : -1.013}}\n",
      "{epoch: 1552481679880, value: {x : -0.079, y : -0.016, z : -1.017}}\n",
      "{epoch: 1552481680205, value: {x : -0.080, y : -0.027, z : -1.011}}\n",
      "{epoch: 1552481680529, value: {x : -0.085, y : -0.021, z : -1.005}}\n",
      "{epoch: 1552481680853, value: {x : -0.075, y : -0.013, z : -1.003}}\n",
      "{epoch: 1552481681177, value: {x : -0.082, y : -0.020, z : -1.005}}\n",
      "{epoch: 1552481681502, value: {x : -0.073, y : -0.021, z : -1.003}}\n",
      "{epoch: 1552481681826, value: {x : -0.076, y : -0.019, z : -1.015}}\n",
      "{epoch: 1552481682149, value: {x : -0.070, y : -0.017, z : -1.017}}\n",
      "{epoch: 1552481682473, value: {x : -0.083, y : -0.022, z : -1.002}}\n",
      "{epoch: 1552481682798, value: {x : -0.073, y : -0.012, z : -1.010}}\n",
      "Finished download data\n"
     ]
    }
   ],
   "source": [
    "download_setting = init_download_data_setting()\n",
    "download_handler = download_setting[0]\n",
    "callback = download_setting[1]\n",
    "sampling_and_log_acc(device,5.0)\n",
    "downloading_data(device,logger,callback,download_handler)\n"
   ]
  },
  {
   "cell_type": "code",
   "execution_count": 17,
   "metadata": {
    "collapsed": true
   },
   "outputs": [
    {
     "name": "stdout",
     "output_type": "stream",
     "text": [
      "start sampling data\n",
      "stop sampling data\n",
      "Downloading data\n",
      "Finished download data\n",
      "{epoch: 1552448207605, value: {x : -0.039, y : -0.013, z : 1.020}}\n",
      "{epoch: 1552448207929, value: {x : -0.039, y : -0.012, z : 1.033}}\n",
      "{epoch: 1552448208252, value: {x : -0.032, y : 0.000, z : 1.039}}\n",
      "{epoch: 1552448208578, value: {x : -0.020, y : 0.107, z : 1.089}}\n",
      "{epoch: 1552448208901, value: {x : -0.036, y : 0.024, z : 1.015}}\n",
      "{epoch: 1552448209225, value: {x : -0.031, y : 0.033, z : 1.019}}\n",
      "{epoch: 1552448209549, value: {x : -0.031, y : 0.021, z : 1.017}}\n",
      "{epoch: 1552448209874, value: {x : -0.037, y : 0.003, z : 1.020}}\n",
      "{epoch: 1552448210198, value: {x : -0.025, y : -0.001, z : 1.024}}\n",
      "{epoch: 1552448210521, value: {x : -0.034, y : -0.010, z : 1.031}}\n",
      "{epoch: 1552448210845, value: {x : -0.033, y : -0.014, z : 1.019}}\n",
      "{epoch: 1552448211169, value: {x : -0.037, y : 0.011, z : 1.033}}\n",
      "{epoch: 1552448211494, value: {x : -0.030, y : 0.017, z : 1.018}}\n",
      "{epoch: 1552448211818, value: {x : -0.042, y : 0.029, z : 1.004}}\n",
      "{epoch: 1552448212141, value: {x : -0.025, y : 0.031, z : 1.009}}\n",
      "{epoch: 1552448212465, value: {x : -0.040, y : 0.030, z : 1.018}}\n",
      "Finished download data\n"
     ]
    }
   ],
   "source": [
    "sampling_and_log_acc(device,5.0)\n",
    "downloading_data(device,logger,callback,download_handler)"
   ]
  },
  {
   "cell_type": "code",
   "execution_count": 8,
   "metadata": {},
   "outputs": [],
   "source": [
    "# init signal and logger\n",
    "# signal\n",
    "signal = libmetawear.mbl_mw_acc_get_acceleration_data_signal(device.board)\n",
    "# logger\n",
    "logger = create_voidp(lambda fn:libmetawear.mbl_mw_datasignal_log(signal, None, fn), resource = \"acc_logger\")"
   ]
  },
  {
   "cell_type": "code",
   "execution_count": null,
   "metadata": {},
   "outputs": [],
   "source": [
    "# acc configuration\n",
    "acc_frequency = 25.0\n",
    "acc_range = 4.0\n",
    "libmetawear.mbl_mw_acc_set_odr(device.board, acc_frequency)\n",
    "libmetawear.mbl_mw_acc_set_odr(device.board, acc_range)\n",
    "libmetawear.mbl_mw_acc_write_acceleration_config(device.board);"
   ]
  },
  {
   "cell_type": "code",
   "execution_count": null,
   "metadata": {},
   "outputs": [],
   "source": [
    "# connection setting\n",
    "libmetawear.mbl_mw_settings_set_connection_parameters(device.board, 7.5, 7.5, 0, 6000)\n",
    "sleep(1.0)"
   ]
  },
  {
   "cell_type": "code",
   "execution_count": null,
   "metadata": {},
   "outputs": [],
   "source": [
    "# downloading data setting\n",
    "print(\"Downloading data\")\n",
    "# progress_update_handler\n",
    "e = Event()\n",
    "def progress_update_handler(context, entries_left, total_entries):\n",
    "    if (entries_left == 0):\n",
    "        e.set()\n",
    "            \n",
    "fn_wrapper = FnVoid_VoidP_UInt_UInt(progress_update_handler) # wrap function    \n",
    "download_handler = LogDownloadHandler(context = None, \\\n",
    "                                     received_progress_update = fn_wrapper, \\\n",
    "                                     received_unknown_entry = cast(None, FnVoid_VoidP_UByte_Long_UByteP_UByte), \\\n",
    "                                     received_unhandled_entry = cast(None, FnVoid_VoidP_DataP))\n",
    "# data callback function\n",
    "callback = FnVoid_VoidP_DataP(lambda ctx, p: print(\"{epoch: %d, value: %s}\" % (p.contents.epoch, parse_value(p))))\n"
   ]
  },
  {
   "cell_type": "code",
   "execution_count": null,
   "metadata": {},
   "outputs": [],
   "source": [
    "# start log and acc sampling\n",
    "libmetawear.mbl_mw_logging_start(device.board,0)\n",
    "libmetawear.mbl_mw_acc_enable_acceleration_sampling(device.board)\n",
    "libmetawear.mbl_mw_acc_start(device.board)\n",
    "print(\"start sampling data\")\n",
    "# wait to log\n",
    "logging_time = 2.0\n",
    "sleep(logging_time)\n",
    "# stop logging\n",
    "libmetawear.mbl_mw_acc_stop(device.board)\n",
    "libmetawear.mbl_mw_acc_disable_acceleration_sampling(device.board)\n",
    "libmetawear.mbl_mw_logging_stop(device.board)"
   ]
  },
  {
   "cell_type": "code",
   "execution_count": null,
   "metadata": {},
   "outputs": [],
   "source": [
    "# downloading data\n",
    "libmetawear.mbl_mw_logger_subscribe(logger, None, callback)\n",
    "libmetawear.mbl_mw_logging_download(device.board, 0, byref(download_handler))\n",
    "e.wait()"
   ]
  },
  {
   "cell_type": "code",
   "execution_count": 19,
   "metadata": {},
   "outputs": [
    {
     "name": "stdout",
     "output_type": "stream",
     "text": [
      "Device information: {'model': '5', 'hardware': '0.3', 'manufacturer': 'MbientLab Inc', 'serial': '049954', 'firmware': '1.4.2'}\n",
      "Device connet to: <bound method MetaWear.connect of <mbientlab.metawear.metawear.MetaWear object at 0x0000017D3F1D35F8>>\n",
      "Device isconnet: True\n",
      "Device ondisconnet: None\n"
     ]
    }
   ],
   "source": [
    "# device info and status check\n",
    "print(\"Device information: \" + str(device.info))\n",
    "print(\"Device connet to: \" + str(device.connect))\n",
    "print(\"Device isconnet: \" + str(device.is_connected))\n",
    "print(\"Device ondisconnet: \" + str(device.on_disconnect))"
   ]
  },
  {
   "cell_type": "code",
   "execution_count": null,
   "metadata": {},
   "outputs": [],
   "source": [
    "try:\n",
    "    # acc configuration\n",
    "    acc_frequency = 25.0\n",
    "    acc_range = 4.0\n",
    "    libmetawear.mbl_mw_acc_set_odr(device.board, acc_frequency)\n",
    "    libmetawear.mbl_mw_acc_set_odr(device.board, acc_range)\n",
    "    libmetawear.mbl_mw_acc_write_acceleration_config(device.board);\n",
    "    # init signal and logger\n",
    "    # signal\n",
    "    signal = libmetawear.mbl_mw_acc_get_acceleration_data_signal(device.board)\n",
    "    # logger\n",
    "    logger = create_voidp(lambda fn:libmetawear.mbl_mw_datasignal_log(signal, None, fn), resource = \"acc_logger\")\n",
    "    \n",
    "    # start log and acc sampling\n",
    "    libmetawear.mbl_mw_logging_start(device.board,0)\n",
    "    libmetawear.mbl_mw_acc_enable_acceleration_sampling(device.board)\n",
    "    libmetawear.mbl_mw_acc_start(device.board)\n",
    "    print(\"start sampling data\")\n",
    "    # wait to log\n",
    "    logging_time = 2.0\n",
    "    sleep(logging_time)\n",
    "    \n",
    "    # stop logging\n",
    "    libmetawear.mbl_mw_acc_stop(device.board)\n",
    "    libmetawear.mbl_mw_acc_disable_acceleration_sampling(device.board)\n",
    "    libmetawear.mbl_mw_logging_stop(device.board)\n",
    "    \n",
    "    # downloading data\n",
    "    print(\"Downloading data\")\n",
    "    libmetawear.mbl_mw_settings_set_connection_parameters(device.board, 7.5, 7.5, 0, 6000)\n",
    "    sleep(1.0)\n",
    "    \n",
    "    # download handler\n",
    "    # progress_update_handler\n",
    "    e = Event()\n",
    "    def progress_update_handler(context, entries_left, total_entries):\n",
    "        if (entries_left == 0):\n",
    "            e.set()\n",
    "            \n",
    "    fn_wrapper = FnVoid_VoidP_UInt_UInt(progress_update_handler) # wrap function\n",
    "    \n",
    "    download_handler = LogDownloadHandler(context = None, \\\n",
    "                                         received_progress_update = fn_wrapper, \\\n",
    "                                         received_unknown_entry = cast(None, FnVoid_VoidP_UByte_Long_UByteP_UByte), \\\n",
    "                                         received_unhandled_entry = cast(None, FnVoid_VoidP_DataP))\n",
    "    callback = FnVoid_VoidP_DataP(lambda ctx, p: print(\"{epoch: %d, value: %s}\" % (p.contents.epoch, parse_value(p))))\n",
    "    libmetawear.mbl_mw_logger_subscribe(logger, None, callback)\n",
    "    libmetawear.mbl_mw_logging_download(device.board, 0, byref(download_handler))\n",
    "    e.wait()\n",
    "except RuntimeError as err:\n",
    "\n",
    "    print(err)\n",
    "\n",
    "finally:\n",
    "\n",
    "    print(\"Resetting device\")\n",
    "\n",
    "    e = Event()\n",
    "\n",
    "    device.on_disconnect = lambda status: e.set()\n",
    "    # reset board setting and disconnect\n",
    "    libmetawear.mbl_mw_debug_reset(device.board)\n",
    "\n",
    "    e.wait()"
   ]
  },
  {
   "cell_type": "code",
   "execution_count": null,
   "metadata": {},
   "outputs": [],
   "source": [
    "# get chosed devices mac address                    \n",
    "address = list(devices)[selection]\n",
    "                    \n",
    "print(\"Connecting to %s...\" % (address))\n",
    "# connect to device                   \n",
    "device = MetaWear(address)\n",
    "device.connect()\n",
    "print(\"Connected\")\n",
    "\n",
    "print(\"Device information: \" + str(device.info))\n",
    "         "
   ]
  },
  {
   "cell_type": "code",
   "execution_count": null,
   "metadata": {},
   "outputs": [],
   "source": [
    "# signal\n",
    "signal = libmetawear.mbl_mw_acc_get_acceleration_data_signal(device.board)\n",
    "# logger\n",
    "logger = create_voidp(lambda fn:libmetawear.mbl_mw_datasignal_log(signal, None, fn), resource = \"acc_logger\")\n",
    "libmetawear.mbl_mw_logging_start(device.board,0)\n",
    "    \n",
    "# start acc sampling\n",
    "libmetawear.mbl_mw_acc_enable_acceleration_sampling(device.board)\n",
    "libmetawear.mbl_mw_acc_start(device.board)\n",
    "print(\"start sampling data\")\n",
    " # wait to log\n",
    "logging_time = 2.0\n",
    "sleep(logging_time)\n",
    "    \n",
    "# stop logging\n",
    "libmetawear.mbl_mw_acc_stop(device.board)\n",
    "libmetawear.mbl_mw_acc_disable_acceleration_sampling(device.board)\n",
    "libmetawear.mbl_mw_logging_stop(device.board)\n",
    "    \n",
    "# downloading data\n",
    "print(\"Downloading data\")\n",
    "libmetawear.mbl_mw_settings_set_connection_parameters(device.board, 7.5, 7.5, 0, 6000)\n",
    "sleep(1.0)\n",
    "e = Event()\n",
    "def progress_update_handler(context, entries_left, total_entries):\n",
    "    if (entries_left == 0):\n",
    "        e.set()\n",
    "            \n",
    "fn_wrapper = FnVoid_VoidP_UInt_UInt(progress_update_handler) # wrap function\n",
    "download_handler = LogDownloadHandler(context = None, \\\n",
    "                                    received_progress_update = fn_wrapper, \\\n",
    "                                    received_unknown_entry = cast(None, FnVoid_VoidP_UByte_Long_UByteP_UByte), \\\n",
    "                                    received_unhandled_entry = cast(None, FnVoid_VoidP_DataP))\n",
    "callback = FnVoid_VoidP_DataP(lambda ctx, p: print(\"{epoch: %d, value: %s}\" % (p.contents.epoch, parse_value(p))))\n",
    "libmetawear.mbl_mw_logger_subscribe(logger, None, callback)\n",
    "libmetawear.mbl_mw_logging_download(device.board, 0, byref(download_handler))\n",
    "e.wait()"
   ]
  },
  {
   "cell_type": "code",
   "execution_count": null,
   "metadata": {},
   "outputs": [],
   "source": [
    "# start acc sampling\n",
    "libmetawear.mbl_mw_logging_start(device.board,0)\n",
    "libmetawear.mbl_mw_acc_enable_acceleration_sampling(device.board)\n",
    "libmetawear.mbl_mw_acc_start(device.board)\n",
    "print(\"start sampling data\")\n",
    " # wait to log\n",
    "logging_time = 1.0\n",
    "sleep(logging_time)\n",
    "    \n",
    "# stop logging\n",
    "libmetawear.mbl_mw_acc_stop(device.board)\n",
    "libmetawear.mbl_mw_acc_disable_acceleration_sampling(device.board)\n",
    "libmetawear.mbl_mw_logging_stop(device.board)\n",
    "    \n",
    "# downloading data\n",
    "print(\"Downloading data\")\n",
    "libmetawear.mbl_mw_settings_set_connection_parameters(device.board, 7.5, 7.5, 0, 6000)\n",
    "sleep(1.0)\n",
    "e = Event()\n",
    "libmetawear.mbl_mw_logger_subscribe(logger, None, callback)\n",
    "libmetawear.mbl_mw_logging_download(device.board, 0, byref(download_handler))\n",
    "e.wait()"
   ]
  },
  {
   "cell_type": "code",
   "execution_count": null,
   "metadata": {},
   "outputs": [],
   "source": [
    "device.disconnect()\n",
    "sleep(1.0)\n",
    "print(\"Disconnected\")         "
   ]
  },
  {
   "cell_type": "code",
   "execution_count": null,
   "metadata": {},
   "outputs": [],
   "source": []
  }
 ],
 "metadata": {
  "kernelspec": {
   "display_name": "Python 3",
   "language": "python",
   "name": "python3"
  },
  "language_info": {
   "codemirror_mode": {
    "name": "ipython",
    "version": 3
   },
   "file_extension": ".py",
   "mimetype": "text/x-python",
   "name": "python",
   "nbconvert_exporter": "python",
   "pygments_lexer": "ipython3",
   "version": "3.6.2"
  }
 },
 "nbformat": 4,
 "nbformat_minor": 2
}

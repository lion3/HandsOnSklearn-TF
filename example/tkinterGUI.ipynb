{
 "cells": [
  {
   "cell_type": "code",
   "execution_count": 2,
   "metadata": {},
   "outputs": [],
   "source": [
    "import tkinter as tk"
   ]
  },
  {
   "cell_type": "code",
   "execution_count": 61,
   "metadata": {},
   "outputs": [
    {
     "name": "stdout",
     "output_type": "stream",
     "text": [
      "excuting scanning, scantime is 123\n",
      "excuting scanning, scantime is 456\n",
      "excuting scanning, scantime is 456\n",
      "excuting scanning, scantime is 456\n",
      "excuting scanning, scantime is 456\n"
     ]
    }
   ],
   "source": [
    "root = tk.Tk()\n",
    "root.title(\"data transfer\")\n",
    "root.geometry('500x300+500+200')\n",
    "frame1 = tk.Frame(root)\n",
    "message = tk.StringVar()\n",
    "label_scan_device = tk.Label(frame1, text=\"scan device\")\n",
    "\n",
    "scrollbar_massagebar = tk.Scrollbar(frame1)\n",
    "scrollbar_massagebar.pack(side=tk.RIGHT, fill=tk.Y)\n",
    "\n",
    "listbox_messagelist = tk.Listbox(frame1,yscrollcommand=scrollbar_massagebar.set)\n",
    "def show_message():\n",
    "    listbox_messagelist.insert(tk.END, message.get())\n",
    "def button_scan_callback():\n",
    "    print(\"excuting scanning, scantime is %s\"%input_scantime.get())\n",
    "    message.set(input_scantime.get())\n",
    "    show_message()\n",
    "input_scantime = tk.Entry(frame1, text=\"scan time\")\n",
    "button_scan_device = tk.Button(frame1,text=\"scan\", command = button_scan_callback)\n",
    "\n",
    "listbox_messagelist.pack()\n",
    "label_scan_device.pack()\n",
    "button_scan_device.pack()\n",
    "input_scantime.pack()\n",
    "#tk.Scale(root, from_ =0, to = 4, orient= tk.HORIZONTAL).pack()\n",
    "frame1.pack(fill = 'both')\n",
    "root.mainloop()"
   ]
  },
  {
   "cell_type": "code",
   "execution_count": null,
   "metadata": {},
   "outputs": [],
   "source": []
  }
 ],
 "metadata": {
  "kernelspec": {
   "display_name": "Python 3",
   "language": "python",
   "name": "python3"
  },
  "language_info": {
   "codemirror_mode": {
    "name": "ipython",
    "version": 3
   },
   "file_extension": ".py",
   "mimetype": "text/x-python",
   "name": "python",
   "nbconvert_exporter": "python",
   "pygments_lexer": "ipython3",
   "version": "3.6.2"
  }
 },
 "nbformat": 4,
 "nbformat_minor": 2
}

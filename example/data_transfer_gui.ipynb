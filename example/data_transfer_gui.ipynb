{
 "cells": [
  {
   "cell_type": "code",
   "execution_count": 7,
   "metadata": {},
   "outputs": [],
   "source": [
    "from tkinter import *"
   ]
  },
  {
   "cell_type": "code",
   "execution_count": null,
   "metadata": {},
   "outputs": [],
   "source": [
    "root = Tk()\n",
    "root.title(\"data transfer\")\n",
    "root.geometry('600x600')\n",
    "root.maxsize(600,600)\n",
    "root.minsize(600,600)\n",
    "frame_operation = Frame(root,bg='red',width=400,height=400)\n",
    "frame_message = Frame(root,bg='green')\n",
    "frame_operation.pack(padx=50,pady=20,ipadx=100,ipady=100)\n",
    "frame_message.pack()\n",
    "scrollbar_massagebar = Scrollbar(frame_message)\n",
    "scrollbar_massagebar.pack(side=RIGHT, fill= Y)\n",
    "listbox_massagelist= Listbox(frame_message, yscrollcommand=scrollbar_massagebar.set)\n",
    "listbox_massagelist.pack()\n",
    "button_scan_device = Button(frame_operation,text=\"scan device\").grid(row=0,column=0,padx=10,pady=10)\n",
    "button_connect_device = Button(frame_operation,text=\"connect device\").grid(row=1,column=0,padx=10,pady=10)\n",
    "button_reset_device = Button(frame_operation,text=\"reset device\").grid(row=2,column=0,padx=10,pady=10)\n",
    "button_init_setting = Button(frame_operation,text=\"init setting\").grid(row=0,column=1,padx=10,pady=10)\n",
    "button_set_param = Button(frame_operation,text=\"set param\").grid(row=2,column=1,padx=10,pady=10)\n",
    "button_start_record = Button(frame_operation,text=\"start record\").grid(row=0,column=3,padx=10,pady=10)\n",
    "button_download_record = Button(frame_operation,text=\"download record\").grid(row=2,column=3,padx=10,pady=10)\n",
    "mainloop()"
   ]
  },
  {
   "cell_type": "code",
   "execution_count": null,
   "metadata": {},
   "outputs": [],
   "source": []
  }
 ],
 "metadata": {
  "kernelspec": {
   "display_name": "Python 3",
   "language": "python",
   "name": "python3"
  },
  "language_info": {
   "codemirror_mode": {
    "name": "ipython",
    "version": 3
   },
   "file_extension": ".py",
   "mimetype": "text/x-python",
   "name": "python",
   "nbconvert_exporter": "python",
   "pygments_lexer": "ipython3",
   "version": "3.6.2"
  }
 },
 "nbformat": 4,
 "nbformat_minor": 2
}

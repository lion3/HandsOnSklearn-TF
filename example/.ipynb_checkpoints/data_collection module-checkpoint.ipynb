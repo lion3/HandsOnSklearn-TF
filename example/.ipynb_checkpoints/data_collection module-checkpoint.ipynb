{
 "cells": [
  {
   "cell_type": "code",
   "execution_count": 1,
   "metadata": {},
   "outputs": [],
   "source": [
    "# head module import\n",
    "from __future__ import print_function\n",
    "\n",
    "from mbientlab.metawear import MetaWear, libmetawear, parse_value, create_voidp, create_voidp_int\n",
    "\n",
    "from mbientlab.metawear.cbindings import *\n",
    "\n",
    "from mbientlab.warble import * \n",
    "from threading import Event\n",
    "from time import sleep\n",
    "from ctypes import *\n",
    "import csv\n",
    "import time\n",
    "import platform\n",
    "import six # six is lib to coordinate py2 and py3\n",
    "import sys"
   ]
  },
  {
   "cell_type": "code",
   "execution_count": 2,
   "metadata": {},
   "outputs": [],
   "source": [
    "# check python version\n",
    "if sys.version_info[0] == 2:\n",
    "\n",
    "    range = xrange"
   ]
  },
  {
   "cell_type": "code",
   "execution_count": 6,
   "metadata": {},
   "outputs": [
    {
     "name": "stdout",
     "output_type": "stream",
     "text": [
      "scanning for devices...\n",
      "[0] F1:3E:CC:8F:98:89 (MetaWear)\n",
      "[1] 62:43:A7:9A:19:C3 ()\n",
      "Select your device (-1 to rescan): 0\n"
     ]
    }
   ],
   "source": [
    "# device scan and connect\n",
    "selection = -1\n",
    "\n",
    "devices = None # all available devices\n",
    "\n",
    "scan_time = 10.0\n",
    "\n",
    "while selection == -1:\n",
    "    \n",
    "    print(\"scanning for devices...\")\n",
    "\n",
    "    devices = {}\n",
    "    # def scanner's result handler, add result to dvices\n",
    "    def handler(result):\n",
    "        devices[result.mac] = result.name\n",
    "    \n",
    "    BleScanner.set_handler(handler)\n",
    "    BleScanner.start()\n",
    "    # set scan time, waiting to scan;\n",
    "    sleep(scan_time)\n",
    "    BleScanner.stop()\n",
    "    \n",
    "    #select which to connect\n",
    "    devices_index = 0\n",
    "    for address, name in six.iteritems(devices):\n",
    "        print(\"[%d] %s (%s)\" % (devices_index, address, name))\n",
    "        devices_index += 1\n",
    "    msg = \"Select your device (-1 to rescan): \"\n",
    "    selection = int(raw_input(msg) if platform.python_version_tuple()[0] == '2'\n",
    "                    else input(msg))\n"
   ]
  },
  {
   "cell_type": "code",
   "execution_count": 7,
   "metadata": {
    "scrolled": true
   },
   "outputs": [
    {
     "name": "stdout",
     "output_type": "stream",
     "text": [
      "Connecting to F1:3E:CC:8F:98:89...\n",
      "Connected\n",
      "Device information: {'model': '5', 'hardware': '0.3', 'manufacturer': 'MbientLab Inc', 'serial': '049954', 'firmware': '1.4.2'}\n"
     ]
    }
   ],
   "source": [
    "# get chosed devices mac address                    \n",
    "address = list(devices)[selection]\n",
    "                    \n",
    "print(\"Connecting to %s...\" % (address))\n",
    "# connect to device                   \n",
    "device = MetaWear(address)\n",
    "device.connect()\n",
    "print(\"Connected\")\n",
    "\n",
    "print(\"Device information: \" + str(device.info))\n",
    "         "
   ]
  },
  {
   "cell_type": "code",
   "execution_count": 5,
   "metadata": {},
   "outputs": [],
   "source": [
    "libmetawear.mbl_mw_debug_reset(device.board)"
   ]
  },
  {
   "cell_type": "code",
   "execution_count": 8,
   "metadata": {},
   "outputs": [],
   "source": [
    "# acc configuration\n",
    "def acc_configuaration(device,acc_freq, acc_rng):\n",
    "    acc_frequency = acc_freq\n",
    "    acc_range = acc_rng\n",
    "    libmetawear.mbl_mw_acc_set_odr(device.board, acc_frequency)\n",
    "    libmetawear.mbl_mw_acc_set_odr(device.board, acc_range)\n",
    "    libmetawear.mbl_mw_acc_write_acceleration_config(device.board);\n",
    "    print(\"set acc frequency [%d], acc range [%d]\" %(acc_freq, acc_rng))"
   ]
  },
  {
   "cell_type": "code",
   "execution_count": 9,
   "metadata": {},
   "outputs": [],
   "source": [
    "# init signal and logger\n",
    "def init_acc_signal_logger(device):\n",
    "    # signal\n",
    "    signal = libmetawear.mbl_mw_acc_get_acceleration_data_signal(device.board)\n",
    "    # logger\n",
    "    logger = create_voidp(lambda fn:libmetawear.mbl_mw_datasignal_log(signal, None, fn), resource = \"acc_logger\")\n",
    "    print(\"finished init acc_signal and logger \")\n",
    "    return logger"
   ]
  },
  {
   "cell_type": "code",
   "execution_count": 10,
   "metadata": {},
   "outputs": [],
   "source": [
    "# connection setting\n",
    "def init_connection_setting(device):\n",
    "    libmetawear.mbl_mw_settings_set_connection_parameters(device.board, 7.5, 7.5, 0, 6000)\n",
    "    sleep(1.0)\n",
    "    print(\"finished connection setting\")"
   ]
  },
  {
   "cell_type": "code",
   "execution_count": 11,
   "metadata": {},
   "outputs": [],
   "source": [
    "# start log and acc sampling\n",
    "def sampling_and_log_acc(device,time):\n",
    "    libmetawear.mbl_mw_logging_start(device.board,0)\n",
    "    libmetawear.mbl_mw_acc_enable_acceleration_sampling(device.board)\n",
    "    libmetawear.mbl_mw_acc_start(device.board)\n",
    "    print(\"start sampling data\")\n",
    "    # wait to log\n",
    "    logging_time = time\n",
    "    sleep(logging_time)\n",
    "    # stop logging\n",
    "    print(\"stop sampling data\")\n",
    "    libmetawear.mbl_mw_acc_stop(device.board)\n",
    "    libmetawear.mbl_mw_acc_disable_acceleration_sampling(device.board)\n",
    "    libmetawear.mbl_mw_logging_stop(device.board)\n",
    "    "
   ]
  },
  {
   "cell_type": "code",
   "execution_count": 12,
   "metadata": {},
   "outputs": [],
   "source": [
    "# downloading data setting\n",
    "def init_download_data_setting():\n",
    "    print(\"Setting Download data\")\n",
    "    # progress_update_handler\n",
    "    global e\n",
    "    e = Event()\n",
    "    def progress_update_handler(context, entries_left, total_entries):\n",
    "        if (entries_left == 0):\n",
    "            e.set()\n",
    "            print(\"Finished download data\")\n",
    "            \n",
    "    fn_wrapper = FnVoid_VoidP_UInt_UInt(progress_update_handler) # wrap function    \n",
    "    download_handler = LogDownloadHandler(context = None, \\\n",
    "                                     received_progress_update = fn_wrapper, \\\n",
    "                                     received_unknown_entry = cast(None, FnVoid_VoidP_UByte_Long_UByteP_UByte), \\\n",
    "                                     received_unhandled_entry = cast(None, FnVoid_VoidP_DataP))\n",
    "    # data callback function\n",
    "    def data_callback(context, p):\n",
    "        print(\"{epoch: %d, value: %s}\" % (p.contents.epoch, parse_value(p)))\n",
    "        # print(cast(p.contents.value, POINTER(CartesianFloat)).contents.x) debug全靠输出\n",
    "        timestamp = str(context)\n",
    "        csvfile = open('acc_data_%s.csv'%timestamp, 'a',newline='')\n",
    "        writer = csv.writer(csvfile)\n",
    "        # writer.writerow(str(parse_value(p)))\n",
    "        data = parse_value(p)\n",
    "        writer.writerow([data.x, data.y,data.z])\n",
    "        # writer.writerow([p.contents.value])\n",
    "              \n",
    "    # callback = FnVoid_VoidP_DataP(lambda ctx, p: print(\"{epoch: %d, value: %s}\" % (p.contents.epoch, parse_value(p))))\n",
    "    callback = FnVoid_VoidP_DataP(data_callback)\n",
    "    print(\"finished init download setting \")\n",
    "    return [download_handler, callback]"
   ]
  },
  {
   "cell_type": "code",
   "execution_count": 25,
   "metadata": {},
   "outputs": [],
   "source": [
    "# downloading data setting\n",
    "def init_download_data_setting():\n",
    "    print(\"Setting Download data\")\n",
    "    # progress_update_handler\n",
    "    global e\n",
    "    e = Event()\n",
    "    def progress_update_handler(context, entries_left, total_entries):\n",
    "        if (entries_left == 0):\n",
    "            e.set()\n",
    "            print(\"Finished download data\")\n",
    "            \n",
    "    fn_wrapper = FnVoid_VoidP_UInt_UInt(progress_update_handler) # wrap function    \n",
    "    download_handler = LogDownloadHandler(context = None, \\\n",
    "                                     received_progress_update = fn_wrapper, \\\n",
    "                                     received_unknown_entry = cast(None, FnVoid_VoidP_UByte_Long_UByteP_UByte), \\\n",
    "                                     received_unhandled_entry = cast(None, FnVoid_VoidP_DataP))\n",
    "    # data callback function\n",
    "    def data_callback(context, p):\n",
    "        print(\"{epoch: %d, value: %s}\" % (p.contents.epoch, parse_value(p)))\n",
    "        data = parse_value(p)\n",
    "        print(context)\n",
    "        print(type(context))\n",
    "       \n",
    "        writer = cast(context,c_void_p)\n",
    "        print(writer)\n",
    "        w1 = from_address(writer)\n",
    "        print(type(w1))\n",
    "        print(w1)\n",
    "        '''\n",
    "        filename = cast(context,c_wchar_p)\n",
    "        print(filename.value)\n",
    "        '''\n",
    "        # print(cast(p.contents.value, POINTER(CartesianFloat)).contents.x) debug全靠输出\n",
    "      \n",
    "              \n",
    "    # callback = FnVoid_VoidP_DataP(lambda ctx, p: print(\"{epoch: %d, value: %s}\" % (p.contents.epoch, parse_value(p))))\n",
    "    callback = FnVoid_VoidP_DataP(data_callback)\n",
    "    print(\"finished init download setting \")\n",
    "    return [download_handler, callback]"
   ]
  },
  {
   "cell_type": "code",
   "execution_count": 22,
   "metadata": {},
   "outputs": [],
   "source": [
    "# downloading data\n",
    "def downloading_data(device,logger,callback,download_handler):\n",
    "    print(\"Downloading data\")\n",
    "    timestamp = c_int(int(time.time()))\n",
    "    filename_ = ('acc_data_%s.csv'%timestamp)\n",
    "    csvfile = open(filename_, 'w',newline='')\n",
    "    '''\n",
    "    filename = c_wchar_p(filename_)\n",
    "    filename_ptr = POINTER(c_wchar_p)(filename)\n",
    "    print(type(filename))\n",
    "    print(filename)\n",
    "    print(type(filename_ptr))\n",
    "    print(filename_ptr)\n",
    "    #writer = csv.writer(csvfile)\n",
    "    #print(type(writer))\n",
    "    #writer_ptr = POINTER(py_object)((writer))\n",
    "    '''\n",
    "    writer = csv.writer(csvfile)\n",
    "    \n",
    "    writer_ptr = py_object(writer)\n",
    "    writer_ptr_ = c_void_p(addressof(writer_ptr))\n",
    "    print(type(writer))\n",
    "    print(writer)\n",
    "    print(type(writer_ptr))\n",
    "    print(writer_ptr)\n",
    "    print(type(writer_ptr_))\n",
    "    print(writer_ptr_)\n",
    "    libmetawear.mbl_mw_logger_subscribe(logger, writer_ptr_, callback)\n",
    "    # libmetawear.mbl_mw_logger_subscribe(logger, filename, callback)\n",
    "    libmetawear.mbl_mw_logging_download(device.board, 0, byref(download_handler))\n",
    "    \n",
    "    e.wait()"
   ]
  },
  {
   "cell_type": "code",
   "execution_count": 15,
   "metadata": {},
   "outputs": [],
   "source": [
    "# downloading data\n",
    "def downloading_data(device,logger,callback,download_handler):\n",
    "    print(\"Downloading data\")\n",
    "    timestamp = c_int(int(time.time()))\n",
    "    # csvfile = open('acc_data_%s.csv'%timestamp, 'w',newline='')\n",
    "    # writer = csv.writer(csvfile)\n",
    "    timestamp_ptr = pointer(timestamp)\n",
    "    libmetawear.mbl_mw_logger_subscribe(logger, timestamp_ptr, callback)\n",
    "    libmetawear.mbl_mw_logging_download(device.board, 0, byref(download_handler))\n",
    "    \n",
    "    e.wait()"
   ]
  },
  {
   "cell_type": "code",
   "execution_count": 21,
   "metadata": {},
   "outputs": [
    {
     "name": "stdout",
     "output_type": "stream",
     "text": [
      "set acc frequency [25], acc range [4]\n",
      "finished connection setting\n",
      "finished init acc_signal and logger \n"
     ]
    }
   ],
   "source": [
    "logger = None\n",
    "callback = None\n",
    "download_handler = None\n",
    "e = None\n",
    "acc_configuaration(device,25.0,4.0)\n",
    "init_connection_setting(device)\n",
    "logger = init_acc_signal_logger(device)\n"
   ]
  },
  {
   "cell_type": "code",
   "execution_count": 26,
   "metadata": {
    "scrolled": true
   },
   "outputs": [
    {
     "name": "stdout",
     "output_type": "stream",
     "text": [
      "Setting Download data\n",
      "finished init download setting \n",
      "start sampling data\n",
      "stop sampling data\n",
      "Downloading data\n",
      "<class '_csv.writer'>\n",
      "<_csv.writer object at 0x000001A8567264C0>\n",
      "<class 'ctypes.py_object'>\n",
      "py_object(<_csv.writer object at 0x000001A8567264C0>)\n",
      "<class 'ctypes.c_void_p'>\n",
      "c_void_p(1822499446416)\n",
      "{epoch: 1552478476053, value: {x : -0.085, y : -0.033, z : -1.030}}\n",
      "1822499346064\n",
      "<class 'int'>\n",
      "c_void_p(1822499346064)\n"
     ]
    },
    {
     "ename": "NameError",
     "evalue": "name 'from_address' is not defined",
     "output_type": "error",
     "traceback": [
      "\u001b[1;31m---------------------------------------------------------------------------\u001b[0m",
      "\u001b[1;31mNameError\u001b[0m                                 Traceback (most recent call last)",
      "\u001b[1;32m_ctypes/callbacks.c\u001b[0m in \u001b[0;36m'calling callback function'\u001b[1;34m()\u001b[0m\n",
      "\u001b[1;32m<ipython-input-25-d9a541f27acc>\u001b[0m in \u001b[0;36mdata_callback\u001b[1;34m(context, p)\u001b[0m\n\u001b[0;32m     24\u001b[0m         \u001b[0mwriter\u001b[0m \u001b[1;33m=\u001b[0m \u001b[0mcast\u001b[0m\u001b[1;33m(\u001b[0m\u001b[0mcontext\u001b[0m\u001b[1;33m,\u001b[0m\u001b[0mc_void_p\u001b[0m\u001b[1;33m)\u001b[0m\u001b[1;33m\u001b[0m\u001b[0m\n\u001b[0;32m     25\u001b[0m         \u001b[0mprint\u001b[0m\u001b[1;33m(\u001b[0m\u001b[0mwriter\u001b[0m\u001b[1;33m)\u001b[0m\u001b[1;33m\u001b[0m\u001b[0m\n\u001b[1;32m---> 26\u001b[1;33m         \u001b[0mw1\u001b[0m \u001b[1;33m=\u001b[0m \u001b[0mfrom_address\u001b[0m\u001b[1;33m(\u001b[0m\u001b[0mwriter\u001b[0m\u001b[1;33m)\u001b[0m\u001b[1;33m\u001b[0m\u001b[0m\n\u001b[0m\u001b[0;32m     27\u001b[0m         \u001b[0mprint\u001b[0m\u001b[1;33m(\u001b[0m\u001b[0mtype\u001b[0m\u001b[1;33m(\u001b[0m\u001b[0mw1\u001b[0m\u001b[1;33m)\u001b[0m\u001b[1;33m)\u001b[0m\u001b[1;33m\u001b[0m\u001b[0m\n\u001b[0;32m     28\u001b[0m         \u001b[0mprint\u001b[0m\u001b[1;33m(\u001b[0m\u001b[0mw1\u001b[0m\u001b[1;33m)\u001b[0m\u001b[1;33m\u001b[0m\u001b[0m\n",
      "\u001b[1;31mNameError\u001b[0m: name 'from_address' is not defined"
     ]
    },
    {
     "name": "stdout",
     "output_type": "stream",
     "text": [
      "{epoch: 1552478476053, value: {x : -0.085, y : -0.033, z : -1.030}}\n",
      "1822499446416\n",
      "<class 'int'>\n",
      "c_void_p(1822499446416)\n"
     ]
    },
    {
     "ename": "NameError",
     "evalue": "name 'from_address' is not defined",
     "output_type": "error",
     "traceback": [
      "\u001b[1;31m---------------------------------------------------------------------------\u001b[0m",
      "\u001b[1;31mNameError\u001b[0m                                 Traceback (most recent call last)",
      "\u001b[1;32m_ctypes/callbacks.c\u001b[0m in \u001b[0;36m'calling callback function'\u001b[1;34m()\u001b[0m\n",
      "\u001b[1;32m<ipython-input-25-d9a541f27acc>\u001b[0m in \u001b[0;36mdata_callback\u001b[1;34m(context, p)\u001b[0m\n\u001b[0;32m     24\u001b[0m         \u001b[0mwriter\u001b[0m \u001b[1;33m=\u001b[0m \u001b[0mcast\u001b[0m\u001b[1;33m(\u001b[0m\u001b[0mcontext\u001b[0m\u001b[1;33m,\u001b[0m\u001b[0mc_void_p\u001b[0m\u001b[1;33m)\u001b[0m\u001b[1;33m\u001b[0m\u001b[0m\n\u001b[0;32m     25\u001b[0m         \u001b[0mprint\u001b[0m\u001b[1;33m(\u001b[0m\u001b[0mwriter\u001b[0m\u001b[1;33m)\u001b[0m\u001b[1;33m\u001b[0m\u001b[0m\n\u001b[1;32m---> 26\u001b[1;33m         \u001b[0mw1\u001b[0m \u001b[1;33m=\u001b[0m \u001b[0mfrom_address\u001b[0m\u001b[1;33m(\u001b[0m\u001b[0mwriter\u001b[0m\u001b[1;33m)\u001b[0m\u001b[1;33m\u001b[0m\u001b[0m\n\u001b[0m\u001b[0;32m     27\u001b[0m         \u001b[0mprint\u001b[0m\u001b[1;33m(\u001b[0m\u001b[0mtype\u001b[0m\u001b[1;33m(\u001b[0m\u001b[0mw1\u001b[0m\u001b[1;33m)\u001b[0m\u001b[1;33m)\u001b[0m\u001b[1;33m\u001b[0m\u001b[0m\n\u001b[0;32m     28\u001b[0m         \u001b[0mprint\u001b[0m\u001b[1;33m(\u001b[0m\u001b[0mw1\u001b[0m\u001b[1;33m)\u001b[0m\u001b[1;33m\u001b[0m\u001b[0m\n",
      "\u001b[1;31mNameError\u001b[0m: name 'from_address' is not defined"
     ]
    },
    {
     "name": "stdout",
     "output_type": "stream",
     "text": [
      "{epoch: 1552478476377, value: {x : -0.083, y : -0.036, z : -1.018}}\n",
      "1822499346064\n",
      "<class 'int'>\n",
      "c_void_p(1822499346064)\n"
     ]
    },
    {
     "ename": "NameError",
     "evalue": "name 'from_address' is not defined",
     "output_type": "error",
     "traceback": [
      "\u001b[1;31m---------------------------------------------------------------------------\u001b[0m",
      "\u001b[1;31mNameError\u001b[0m                                 Traceback (most recent call last)",
      "\u001b[1;32m_ctypes/callbacks.c\u001b[0m in \u001b[0;36m'calling callback function'\u001b[1;34m()\u001b[0m\n",
      "\u001b[1;32m<ipython-input-25-d9a541f27acc>\u001b[0m in \u001b[0;36mdata_callback\u001b[1;34m(context, p)\u001b[0m\n\u001b[0;32m     24\u001b[0m         \u001b[0mwriter\u001b[0m \u001b[1;33m=\u001b[0m \u001b[0mcast\u001b[0m\u001b[1;33m(\u001b[0m\u001b[0mcontext\u001b[0m\u001b[1;33m,\u001b[0m\u001b[0mc_void_p\u001b[0m\u001b[1;33m)\u001b[0m\u001b[1;33m\u001b[0m\u001b[0m\n\u001b[0;32m     25\u001b[0m         \u001b[0mprint\u001b[0m\u001b[1;33m(\u001b[0m\u001b[0mwriter\u001b[0m\u001b[1;33m)\u001b[0m\u001b[1;33m\u001b[0m\u001b[0m\n\u001b[1;32m---> 26\u001b[1;33m         \u001b[0mw1\u001b[0m \u001b[1;33m=\u001b[0m \u001b[0mfrom_address\u001b[0m\u001b[1;33m(\u001b[0m\u001b[0mwriter\u001b[0m\u001b[1;33m)\u001b[0m\u001b[1;33m\u001b[0m\u001b[0m\n\u001b[0m\u001b[0;32m     27\u001b[0m         \u001b[0mprint\u001b[0m\u001b[1;33m(\u001b[0m\u001b[0mtype\u001b[0m\u001b[1;33m(\u001b[0m\u001b[0mw1\u001b[0m\u001b[1;33m)\u001b[0m\u001b[1;33m)\u001b[0m\u001b[1;33m\u001b[0m\u001b[0m\n\u001b[0;32m     28\u001b[0m         \u001b[0mprint\u001b[0m\u001b[1;33m(\u001b[0m\u001b[0mw1\u001b[0m\u001b[1;33m)\u001b[0m\u001b[1;33m\u001b[0m\u001b[0m\n",
      "\u001b[1;31mNameError\u001b[0m: name 'from_address' is not defined"
     ]
    },
    {
     "name": "stdout",
     "output_type": "stream",
     "text": [
      "{epoch: 1552478476377, value: {x : -0.083, y : -0.036, z : -1.018}}\n",
      "1822499446416\n",
      "<class 'int'>\n",
      "c_void_p(1822499446416)\n"
     ]
    },
    {
     "ename": "NameError",
     "evalue": "name 'from_address' is not defined",
     "output_type": "error",
     "traceback": [
      "\u001b[1;31m---------------------------------------------------------------------------\u001b[0m",
      "\u001b[1;31mNameError\u001b[0m                                 Traceback (most recent call last)",
      "\u001b[1;32m_ctypes/callbacks.c\u001b[0m in \u001b[0;36m'calling callback function'\u001b[1;34m()\u001b[0m\n",
      "\u001b[1;32m<ipython-input-25-d9a541f27acc>\u001b[0m in \u001b[0;36mdata_callback\u001b[1;34m(context, p)\u001b[0m\n\u001b[0;32m     24\u001b[0m         \u001b[0mwriter\u001b[0m \u001b[1;33m=\u001b[0m \u001b[0mcast\u001b[0m\u001b[1;33m(\u001b[0m\u001b[0mcontext\u001b[0m\u001b[1;33m,\u001b[0m\u001b[0mc_void_p\u001b[0m\u001b[1;33m)\u001b[0m\u001b[1;33m\u001b[0m\u001b[0m\n\u001b[0;32m     25\u001b[0m         \u001b[0mprint\u001b[0m\u001b[1;33m(\u001b[0m\u001b[0mwriter\u001b[0m\u001b[1;33m)\u001b[0m\u001b[1;33m\u001b[0m\u001b[0m\n\u001b[1;32m---> 26\u001b[1;33m         \u001b[0mw1\u001b[0m \u001b[1;33m=\u001b[0m \u001b[0mfrom_address\u001b[0m\u001b[1;33m(\u001b[0m\u001b[0mwriter\u001b[0m\u001b[1;33m)\u001b[0m\u001b[1;33m\u001b[0m\u001b[0m\n\u001b[0m\u001b[0;32m     27\u001b[0m         \u001b[0mprint\u001b[0m\u001b[1;33m(\u001b[0m\u001b[0mtype\u001b[0m\u001b[1;33m(\u001b[0m\u001b[0mw1\u001b[0m\u001b[1;33m)\u001b[0m\u001b[1;33m)\u001b[0m\u001b[1;33m\u001b[0m\u001b[0m\n\u001b[0;32m     28\u001b[0m         \u001b[0mprint\u001b[0m\u001b[1;33m(\u001b[0m\u001b[0mw1\u001b[0m\u001b[1;33m)\u001b[0m\u001b[1;33m\u001b[0m\u001b[0m\n",
      "\u001b[1;31mNameError\u001b[0m: name 'from_address' is not defined"
     ]
    },
    {
     "name": "stdout",
     "output_type": "stream",
     "text": [
      "{epoch: 1552478476701, value: {x : -0.086, y : -0.040, z : -1.009}}\n",
      "1822499346064\n",
      "<class 'int'>\n",
      "c_void_p(1822499346064)\n"
     ]
    },
    {
     "ename": "NameError",
     "evalue": "name 'from_address' is not defined",
     "output_type": "error",
     "traceback": [
      "\u001b[1;31m---------------------------------------------------------------------------\u001b[0m",
      "\u001b[1;31mNameError\u001b[0m                                 Traceback (most recent call last)",
      "\u001b[1;32m_ctypes/callbacks.c\u001b[0m in \u001b[0;36m'calling callback function'\u001b[1;34m()\u001b[0m\n",
      "\u001b[1;32m<ipython-input-25-d9a541f27acc>\u001b[0m in \u001b[0;36mdata_callback\u001b[1;34m(context, p)\u001b[0m\n\u001b[0;32m     24\u001b[0m         \u001b[0mwriter\u001b[0m \u001b[1;33m=\u001b[0m \u001b[0mcast\u001b[0m\u001b[1;33m(\u001b[0m\u001b[0mcontext\u001b[0m\u001b[1;33m,\u001b[0m\u001b[0mc_void_p\u001b[0m\u001b[1;33m)\u001b[0m\u001b[1;33m\u001b[0m\u001b[0m\n\u001b[0;32m     25\u001b[0m         \u001b[0mprint\u001b[0m\u001b[1;33m(\u001b[0m\u001b[0mwriter\u001b[0m\u001b[1;33m)\u001b[0m\u001b[1;33m\u001b[0m\u001b[0m\n\u001b[1;32m---> 26\u001b[1;33m         \u001b[0mw1\u001b[0m \u001b[1;33m=\u001b[0m \u001b[0mfrom_address\u001b[0m\u001b[1;33m(\u001b[0m\u001b[0mwriter\u001b[0m\u001b[1;33m)\u001b[0m\u001b[1;33m\u001b[0m\u001b[0m\n\u001b[0m\u001b[0;32m     27\u001b[0m         \u001b[0mprint\u001b[0m\u001b[1;33m(\u001b[0m\u001b[0mtype\u001b[0m\u001b[1;33m(\u001b[0m\u001b[0mw1\u001b[0m\u001b[1;33m)\u001b[0m\u001b[1;33m)\u001b[0m\u001b[1;33m\u001b[0m\u001b[0m\n\u001b[0;32m     28\u001b[0m         \u001b[0mprint\u001b[0m\u001b[1;33m(\u001b[0m\u001b[0mw1\u001b[0m\u001b[1;33m)\u001b[0m\u001b[1;33m\u001b[0m\u001b[0m\n",
      "\u001b[1;31mNameError\u001b[0m: name 'from_address' is not defined"
     ]
    },
    {
     "name": "stdout",
     "output_type": "stream",
     "text": [
      "{epoch: 1552478476701, value: {x : -0.086, y : -0.040, z : -1.009}}\n",
      "1822499446416\n",
      "<class 'int'>\n",
      "c_void_p(1822499446416)\n"
     ]
    },
    {
     "ename": "NameError",
     "evalue": "name 'from_address' is not defined",
     "output_type": "error",
     "traceback": [
      "\u001b[1;31m---------------------------------------------------------------------------\u001b[0m",
      "\u001b[1;31mNameError\u001b[0m                                 Traceback (most recent call last)",
      "\u001b[1;32m_ctypes/callbacks.c\u001b[0m in \u001b[0;36m'calling callback function'\u001b[1;34m()\u001b[0m\n",
      "\u001b[1;32m<ipython-input-25-d9a541f27acc>\u001b[0m in \u001b[0;36mdata_callback\u001b[1;34m(context, p)\u001b[0m\n\u001b[0;32m     24\u001b[0m         \u001b[0mwriter\u001b[0m \u001b[1;33m=\u001b[0m \u001b[0mcast\u001b[0m\u001b[1;33m(\u001b[0m\u001b[0mcontext\u001b[0m\u001b[1;33m,\u001b[0m\u001b[0mc_void_p\u001b[0m\u001b[1;33m)\u001b[0m\u001b[1;33m\u001b[0m\u001b[0m\n\u001b[0;32m     25\u001b[0m         \u001b[0mprint\u001b[0m\u001b[1;33m(\u001b[0m\u001b[0mwriter\u001b[0m\u001b[1;33m)\u001b[0m\u001b[1;33m\u001b[0m\u001b[0m\n\u001b[1;32m---> 26\u001b[1;33m         \u001b[0mw1\u001b[0m \u001b[1;33m=\u001b[0m \u001b[0mfrom_address\u001b[0m\u001b[1;33m(\u001b[0m\u001b[0mwriter\u001b[0m\u001b[1;33m)\u001b[0m\u001b[1;33m\u001b[0m\u001b[0m\n\u001b[0m\u001b[0;32m     27\u001b[0m         \u001b[0mprint\u001b[0m\u001b[1;33m(\u001b[0m\u001b[0mtype\u001b[0m\u001b[1;33m(\u001b[0m\u001b[0mw1\u001b[0m\u001b[1;33m)\u001b[0m\u001b[1;33m)\u001b[0m\u001b[1;33m\u001b[0m\u001b[0m\n\u001b[0;32m     28\u001b[0m         \u001b[0mprint\u001b[0m\u001b[1;33m(\u001b[0m\u001b[0mw1\u001b[0m\u001b[1;33m)\u001b[0m\u001b[1;33m\u001b[0m\u001b[0m\n",
      "\u001b[1;31mNameError\u001b[0m: name 'from_address' is not defined"
     ]
    },
    {
     "name": "stdout",
     "output_type": "stream",
     "text": [
      "{epoch: 1552478477023, value: {x : -0.085, y : -0.030, z : -0.999}}\n",
      "1822499346064\n",
      "<class 'int'>\n",
      "c_void_p(1822499346064)\n"
     ]
    },
    {
     "ename": "NameError",
     "evalue": "name 'from_address' is not defined",
     "output_type": "error",
     "traceback": [
      "\u001b[1;31m---------------------------------------------------------------------------\u001b[0m",
      "\u001b[1;31mNameError\u001b[0m                                 Traceback (most recent call last)",
      "\u001b[1;32m_ctypes/callbacks.c\u001b[0m in \u001b[0;36m'calling callback function'\u001b[1;34m()\u001b[0m\n",
      "\u001b[1;32m<ipython-input-25-d9a541f27acc>\u001b[0m in \u001b[0;36mdata_callback\u001b[1;34m(context, p)\u001b[0m\n\u001b[0;32m     24\u001b[0m         \u001b[0mwriter\u001b[0m \u001b[1;33m=\u001b[0m \u001b[0mcast\u001b[0m\u001b[1;33m(\u001b[0m\u001b[0mcontext\u001b[0m\u001b[1;33m,\u001b[0m\u001b[0mc_void_p\u001b[0m\u001b[1;33m)\u001b[0m\u001b[1;33m\u001b[0m\u001b[0m\n\u001b[0;32m     25\u001b[0m         \u001b[0mprint\u001b[0m\u001b[1;33m(\u001b[0m\u001b[0mwriter\u001b[0m\u001b[1;33m)\u001b[0m\u001b[1;33m\u001b[0m\u001b[0m\n\u001b[1;32m---> 26\u001b[1;33m         \u001b[0mw1\u001b[0m \u001b[1;33m=\u001b[0m \u001b[0mfrom_address\u001b[0m\u001b[1;33m(\u001b[0m\u001b[0mwriter\u001b[0m\u001b[1;33m)\u001b[0m\u001b[1;33m\u001b[0m\u001b[0m\n\u001b[0m\u001b[0;32m     27\u001b[0m         \u001b[0mprint\u001b[0m\u001b[1;33m(\u001b[0m\u001b[0mtype\u001b[0m\u001b[1;33m(\u001b[0m\u001b[0mw1\u001b[0m\u001b[1;33m)\u001b[0m\u001b[1;33m)\u001b[0m\u001b[1;33m\u001b[0m\u001b[0m\n\u001b[0;32m     28\u001b[0m         \u001b[0mprint\u001b[0m\u001b[1;33m(\u001b[0m\u001b[0mw1\u001b[0m\u001b[1;33m)\u001b[0m\u001b[1;33m\u001b[0m\u001b[0m\n",
      "\u001b[1;31mNameError\u001b[0m: name 'from_address' is not defined"
     ]
    },
    {
     "name": "stdout",
     "output_type": "stream",
     "text": [
      "{epoch: 1552478477023, value: {x : -0.085, y : -0.030, z : -0.999}}\n",
      "1822499446416\n",
      "<class 'int'>\n",
      "c_void_p(1822499446416)\n"
     ]
    },
    {
     "ename": "NameError",
     "evalue": "name 'from_address' is not defined",
     "output_type": "error",
     "traceback": [
      "\u001b[1;31m---------------------------------------------------------------------------\u001b[0m",
      "\u001b[1;31mNameError\u001b[0m                                 Traceback (most recent call last)",
      "\u001b[1;32m_ctypes/callbacks.c\u001b[0m in \u001b[0;36m'calling callback function'\u001b[1;34m()\u001b[0m\n",
      "\u001b[1;32m<ipython-input-25-d9a541f27acc>\u001b[0m in \u001b[0;36mdata_callback\u001b[1;34m(context, p)\u001b[0m\n\u001b[0;32m     24\u001b[0m         \u001b[0mwriter\u001b[0m \u001b[1;33m=\u001b[0m \u001b[0mcast\u001b[0m\u001b[1;33m(\u001b[0m\u001b[0mcontext\u001b[0m\u001b[1;33m,\u001b[0m\u001b[0mc_void_p\u001b[0m\u001b[1;33m)\u001b[0m\u001b[1;33m\u001b[0m\u001b[0m\n\u001b[0;32m     25\u001b[0m         \u001b[0mprint\u001b[0m\u001b[1;33m(\u001b[0m\u001b[0mwriter\u001b[0m\u001b[1;33m)\u001b[0m\u001b[1;33m\u001b[0m\u001b[0m\n\u001b[1;32m---> 26\u001b[1;33m         \u001b[0mw1\u001b[0m \u001b[1;33m=\u001b[0m \u001b[0mfrom_address\u001b[0m\u001b[1;33m(\u001b[0m\u001b[0mwriter\u001b[0m\u001b[1;33m)\u001b[0m\u001b[1;33m\u001b[0m\u001b[0m\n\u001b[0m\u001b[0;32m     27\u001b[0m         \u001b[0mprint\u001b[0m\u001b[1;33m(\u001b[0m\u001b[0mtype\u001b[0m\u001b[1;33m(\u001b[0m\u001b[0mw1\u001b[0m\u001b[1;33m)\u001b[0m\u001b[1;33m)\u001b[0m\u001b[1;33m\u001b[0m\u001b[0m\n\u001b[0;32m     28\u001b[0m         \u001b[0mprint\u001b[0m\u001b[1;33m(\u001b[0m\u001b[0mw1\u001b[0m\u001b[1;33m)\u001b[0m\u001b[1;33m\u001b[0m\u001b[0m\n",
      "\u001b[1;31mNameError\u001b[0m: name 'from_address' is not defined"
     ]
    },
    {
     "name": "stdout",
     "output_type": "stream",
     "text": [
      "{epoch: 1552478477347, value: {x : -0.091, y : -0.032, z : -0.996}}\n",
      "1822499346064\n",
      "<class 'int'>\n",
      "c_void_p(1822499346064)\n"
     ]
    },
    {
     "ename": "NameError",
     "evalue": "name 'from_address' is not defined",
     "output_type": "error",
     "traceback": [
      "\u001b[1;31m---------------------------------------------------------------------------\u001b[0m",
      "\u001b[1;31mNameError\u001b[0m                                 Traceback (most recent call last)",
      "\u001b[1;32m_ctypes/callbacks.c\u001b[0m in \u001b[0;36m'calling callback function'\u001b[1;34m()\u001b[0m\n",
      "\u001b[1;32m<ipython-input-25-d9a541f27acc>\u001b[0m in \u001b[0;36mdata_callback\u001b[1;34m(context, p)\u001b[0m\n\u001b[0;32m     24\u001b[0m         \u001b[0mwriter\u001b[0m \u001b[1;33m=\u001b[0m \u001b[0mcast\u001b[0m\u001b[1;33m(\u001b[0m\u001b[0mcontext\u001b[0m\u001b[1;33m,\u001b[0m\u001b[0mc_void_p\u001b[0m\u001b[1;33m)\u001b[0m\u001b[1;33m\u001b[0m\u001b[0m\n\u001b[0;32m     25\u001b[0m         \u001b[0mprint\u001b[0m\u001b[1;33m(\u001b[0m\u001b[0mwriter\u001b[0m\u001b[1;33m)\u001b[0m\u001b[1;33m\u001b[0m\u001b[0m\n\u001b[1;32m---> 26\u001b[1;33m         \u001b[0mw1\u001b[0m \u001b[1;33m=\u001b[0m \u001b[0mfrom_address\u001b[0m\u001b[1;33m(\u001b[0m\u001b[0mwriter\u001b[0m\u001b[1;33m)\u001b[0m\u001b[1;33m\u001b[0m\u001b[0m\n\u001b[0m\u001b[0;32m     27\u001b[0m         \u001b[0mprint\u001b[0m\u001b[1;33m(\u001b[0m\u001b[0mtype\u001b[0m\u001b[1;33m(\u001b[0m\u001b[0mw1\u001b[0m\u001b[1;33m)\u001b[0m\u001b[1;33m)\u001b[0m\u001b[1;33m\u001b[0m\u001b[0m\n\u001b[0;32m     28\u001b[0m         \u001b[0mprint\u001b[0m\u001b[1;33m(\u001b[0m\u001b[0mw1\u001b[0m\u001b[1;33m)\u001b[0m\u001b[1;33m\u001b[0m\u001b[0m\n",
      "\u001b[1;31mNameError\u001b[0m: name 'from_address' is not defined"
     ]
    },
    {
     "name": "stdout",
     "output_type": "stream",
     "text": [
      "{epoch: 1552478477347, value: {x : -0.091, y : -0.032, z : -0.996}}\n",
      "1822499446416\n",
      "<class 'int'>\n",
      "c_void_p(1822499446416)\n"
     ]
    },
    {
     "ename": "NameError",
     "evalue": "name 'from_address' is not defined",
     "output_type": "error",
     "traceback": [
      "\u001b[1;31m---------------------------------------------------------------------------\u001b[0m",
      "\u001b[1;31mNameError\u001b[0m                                 Traceback (most recent call last)",
      "\u001b[1;32m_ctypes/callbacks.c\u001b[0m in \u001b[0;36m'calling callback function'\u001b[1;34m()\u001b[0m\n",
      "\u001b[1;32m<ipython-input-25-d9a541f27acc>\u001b[0m in \u001b[0;36mdata_callback\u001b[1;34m(context, p)\u001b[0m\n\u001b[0;32m     24\u001b[0m         \u001b[0mwriter\u001b[0m \u001b[1;33m=\u001b[0m \u001b[0mcast\u001b[0m\u001b[1;33m(\u001b[0m\u001b[0mcontext\u001b[0m\u001b[1;33m,\u001b[0m\u001b[0mc_void_p\u001b[0m\u001b[1;33m)\u001b[0m\u001b[1;33m\u001b[0m\u001b[0m\n\u001b[0;32m     25\u001b[0m         \u001b[0mprint\u001b[0m\u001b[1;33m(\u001b[0m\u001b[0mwriter\u001b[0m\u001b[1;33m)\u001b[0m\u001b[1;33m\u001b[0m\u001b[0m\n\u001b[1;32m---> 26\u001b[1;33m         \u001b[0mw1\u001b[0m \u001b[1;33m=\u001b[0m \u001b[0mfrom_address\u001b[0m\u001b[1;33m(\u001b[0m\u001b[0mwriter\u001b[0m\u001b[1;33m)\u001b[0m\u001b[1;33m\u001b[0m\u001b[0m\n\u001b[0m\u001b[0;32m     27\u001b[0m         \u001b[0mprint\u001b[0m\u001b[1;33m(\u001b[0m\u001b[0mtype\u001b[0m\u001b[1;33m(\u001b[0m\u001b[0mw1\u001b[0m\u001b[1;33m)\u001b[0m\u001b[1;33m)\u001b[0m\u001b[1;33m\u001b[0m\u001b[0m\n\u001b[0;32m     28\u001b[0m         \u001b[0mprint\u001b[0m\u001b[1;33m(\u001b[0m\u001b[0mw1\u001b[0m\u001b[1;33m)\u001b[0m\u001b[1;33m\u001b[0m\u001b[0m\n",
      "\u001b[1;31mNameError\u001b[0m: name 'from_address' is not defined"
     ]
    },
    {
     "name": "stdout",
     "output_type": "stream",
     "text": [
      "{epoch: 1552478477670, value: {x : -0.080, y : -0.033, z : -1.000}}\n",
      "1822499346064\n",
      "<class 'int'>\n",
      "c_void_p(1822499346064)\n"
     ]
    },
    {
     "ename": "NameError",
     "evalue": "name 'from_address' is not defined",
     "output_type": "error",
     "traceback": [
      "\u001b[1;31m---------------------------------------------------------------------------\u001b[0m",
      "\u001b[1;31mNameError\u001b[0m                                 Traceback (most recent call last)",
      "\u001b[1;32m_ctypes/callbacks.c\u001b[0m in \u001b[0;36m'calling callback function'\u001b[1;34m()\u001b[0m\n",
      "\u001b[1;32m<ipython-input-25-d9a541f27acc>\u001b[0m in \u001b[0;36mdata_callback\u001b[1;34m(context, p)\u001b[0m\n\u001b[0;32m     24\u001b[0m         \u001b[0mwriter\u001b[0m \u001b[1;33m=\u001b[0m \u001b[0mcast\u001b[0m\u001b[1;33m(\u001b[0m\u001b[0mcontext\u001b[0m\u001b[1;33m,\u001b[0m\u001b[0mc_void_p\u001b[0m\u001b[1;33m)\u001b[0m\u001b[1;33m\u001b[0m\u001b[0m\n\u001b[0;32m     25\u001b[0m         \u001b[0mprint\u001b[0m\u001b[1;33m(\u001b[0m\u001b[0mwriter\u001b[0m\u001b[1;33m)\u001b[0m\u001b[1;33m\u001b[0m\u001b[0m\n\u001b[1;32m---> 26\u001b[1;33m         \u001b[0mw1\u001b[0m \u001b[1;33m=\u001b[0m \u001b[0mfrom_address\u001b[0m\u001b[1;33m(\u001b[0m\u001b[0mwriter\u001b[0m\u001b[1;33m)\u001b[0m\u001b[1;33m\u001b[0m\u001b[0m\n\u001b[0m\u001b[0;32m     27\u001b[0m         \u001b[0mprint\u001b[0m\u001b[1;33m(\u001b[0m\u001b[0mtype\u001b[0m\u001b[1;33m(\u001b[0m\u001b[0mw1\u001b[0m\u001b[1;33m)\u001b[0m\u001b[1;33m)\u001b[0m\u001b[1;33m\u001b[0m\u001b[0m\n\u001b[0;32m     28\u001b[0m         \u001b[0mprint\u001b[0m\u001b[1;33m(\u001b[0m\u001b[0mw1\u001b[0m\u001b[1;33m)\u001b[0m\u001b[1;33m\u001b[0m\u001b[0m\n",
      "\u001b[1;31mNameError\u001b[0m: name 'from_address' is not defined"
     ]
    },
    {
     "name": "stdout",
     "output_type": "stream",
     "text": [
      "{epoch: 1552478477670, value: {x : -0.080, y : -0.033, z : -1.000}}\n",
      "1822499446416\n",
      "<class 'int'>\n",
      "c_void_p(1822499446416)\n"
     ]
    },
    {
     "ename": "NameError",
     "evalue": "name 'from_address' is not defined",
     "output_type": "error",
     "traceback": [
      "\u001b[1;31m---------------------------------------------------------------------------\u001b[0m",
      "\u001b[1;31mNameError\u001b[0m                                 Traceback (most recent call last)",
      "\u001b[1;32m_ctypes/callbacks.c\u001b[0m in \u001b[0;36m'calling callback function'\u001b[1;34m()\u001b[0m\n",
      "\u001b[1;32m<ipython-input-25-d9a541f27acc>\u001b[0m in \u001b[0;36mdata_callback\u001b[1;34m(context, p)\u001b[0m\n\u001b[0;32m     24\u001b[0m         \u001b[0mwriter\u001b[0m \u001b[1;33m=\u001b[0m \u001b[0mcast\u001b[0m\u001b[1;33m(\u001b[0m\u001b[0mcontext\u001b[0m\u001b[1;33m,\u001b[0m\u001b[0mc_void_p\u001b[0m\u001b[1;33m)\u001b[0m\u001b[1;33m\u001b[0m\u001b[0m\n\u001b[0;32m     25\u001b[0m         \u001b[0mprint\u001b[0m\u001b[1;33m(\u001b[0m\u001b[0mwriter\u001b[0m\u001b[1;33m)\u001b[0m\u001b[1;33m\u001b[0m\u001b[0m\n\u001b[1;32m---> 26\u001b[1;33m         \u001b[0mw1\u001b[0m \u001b[1;33m=\u001b[0m \u001b[0mfrom_address\u001b[0m\u001b[1;33m(\u001b[0m\u001b[0mwriter\u001b[0m\u001b[1;33m)\u001b[0m\u001b[1;33m\u001b[0m\u001b[0m\n\u001b[0m\u001b[0;32m     27\u001b[0m         \u001b[0mprint\u001b[0m\u001b[1;33m(\u001b[0m\u001b[0mtype\u001b[0m\u001b[1;33m(\u001b[0m\u001b[0mw1\u001b[0m\u001b[1;33m)\u001b[0m\u001b[1;33m)\u001b[0m\u001b[1;33m\u001b[0m\u001b[0m\n\u001b[0;32m     28\u001b[0m         \u001b[0mprint\u001b[0m\u001b[1;33m(\u001b[0m\u001b[0mw1\u001b[0m\u001b[1;33m)\u001b[0m\u001b[1;33m\u001b[0m\u001b[0m\n",
      "\u001b[1;31mNameError\u001b[0m: name 'from_address' is not defined"
     ]
    },
    {
     "name": "stdout",
     "output_type": "stream",
     "text": [
      "{epoch: 1552478477994, value: {x : -0.088, y : -0.040, z : -1.023}}\n",
      "1822499346064\n",
      "<class 'int'>\n",
      "c_void_p(1822499346064)\n"
     ]
    },
    {
     "ename": "NameError",
     "evalue": "name 'from_address' is not defined",
     "output_type": "error",
     "traceback": [
      "\u001b[1;31m---------------------------------------------------------------------------\u001b[0m",
      "\u001b[1;31mNameError\u001b[0m                                 Traceback (most recent call last)",
      "\u001b[1;32m_ctypes/callbacks.c\u001b[0m in \u001b[0;36m'calling callback function'\u001b[1;34m()\u001b[0m\n",
      "\u001b[1;32m<ipython-input-25-d9a541f27acc>\u001b[0m in \u001b[0;36mdata_callback\u001b[1;34m(context, p)\u001b[0m\n\u001b[0;32m     24\u001b[0m         \u001b[0mwriter\u001b[0m \u001b[1;33m=\u001b[0m \u001b[0mcast\u001b[0m\u001b[1;33m(\u001b[0m\u001b[0mcontext\u001b[0m\u001b[1;33m,\u001b[0m\u001b[0mc_void_p\u001b[0m\u001b[1;33m)\u001b[0m\u001b[1;33m\u001b[0m\u001b[0m\n\u001b[0;32m     25\u001b[0m         \u001b[0mprint\u001b[0m\u001b[1;33m(\u001b[0m\u001b[0mwriter\u001b[0m\u001b[1;33m)\u001b[0m\u001b[1;33m\u001b[0m\u001b[0m\n\u001b[1;32m---> 26\u001b[1;33m         \u001b[0mw1\u001b[0m \u001b[1;33m=\u001b[0m \u001b[0mfrom_address\u001b[0m\u001b[1;33m(\u001b[0m\u001b[0mwriter\u001b[0m\u001b[1;33m)\u001b[0m\u001b[1;33m\u001b[0m\u001b[0m\n\u001b[0m\u001b[0;32m     27\u001b[0m         \u001b[0mprint\u001b[0m\u001b[1;33m(\u001b[0m\u001b[0mtype\u001b[0m\u001b[1;33m(\u001b[0m\u001b[0mw1\u001b[0m\u001b[1;33m)\u001b[0m\u001b[1;33m)\u001b[0m\u001b[1;33m\u001b[0m\u001b[0m\n\u001b[0;32m     28\u001b[0m         \u001b[0mprint\u001b[0m\u001b[1;33m(\u001b[0m\u001b[0mw1\u001b[0m\u001b[1;33m)\u001b[0m\u001b[1;33m\u001b[0m\u001b[0m\n",
      "\u001b[1;31mNameError\u001b[0m: name 'from_address' is not defined"
     ]
    },
    {
     "name": "stdout",
     "output_type": "stream",
     "text": [
      "{epoch: 1552478477994, value: {x : -0.088, y : -0.040, z : -1.023}}\n",
      "1822499446416\n",
      "<class 'int'>\n",
      "c_void_p(1822499446416)\n"
     ]
    },
    {
     "ename": "NameError",
     "evalue": "name 'from_address' is not defined",
     "output_type": "error",
     "traceback": [
      "\u001b[1;31m---------------------------------------------------------------------------\u001b[0m",
      "\u001b[1;31mNameError\u001b[0m                                 Traceback (most recent call last)",
      "\u001b[1;32m_ctypes/callbacks.c\u001b[0m in \u001b[0;36m'calling callback function'\u001b[1;34m()\u001b[0m\n",
      "\u001b[1;32m<ipython-input-25-d9a541f27acc>\u001b[0m in \u001b[0;36mdata_callback\u001b[1;34m(context, p)\u001b[0m\n\u001b[0;32m     24\u001b[0m         \u001b[0mwriter\u001b[0m \u001b[1;33m=\u001b[0m \u001b[0mcast\u001b[0m\u001b[1;33m(\u001b[0m\u001b[0mcontext\u001b[0m\u001b[1;33m,\u001b[0m\u001b[0mc_void_p\u001b[0m\u001b[1;33m)\u001b[0m\u001b[1;33m\u001b[0m\u001b[0m\n\u001b[0;32m     25\u001b[0m         \u001b[0mprint\u001b[0m\u001b[1;33m(\u001b[0m\u001b[0mwriter\u001b[0m\u001b[1;33m)\u001b[0m\u001b[1;33m\u001b[0m\u001b[0m\n\u001b[1;32m---> 26\u001b[1;33m         \u001b[0mw1\u001b[0m \u001b[1;33m=\u001b[0m \u001b[0mfrom_address\u001b[0m\u001b[1;33m(\u001b[0m\u001b[0mwriter\u001b[0m\u001b[1;33m)\u001b[0m\u001b[1;33m\u001b[0m\u001b[0m\n\u001b[0m\u001b[0;32m     27\u001b[0m         \u001b[0mprint\u001b[0m\u001b[1;33m(\u001b[0m\u001b[0mtype\u001b[0m\u001b[1;33m(\u001b[0m\u001b[0mw1\u001b[0m\u001b[1;33m)\u001b[0m\u001b[1;33m)\u001b[0m\u001b[1;33m\u001b[0m\u001b[0m\n\u001b[0;32m     28\u001b[0m         \u001b[0mprint\u001b[0m\u001b[1;33m(\u001b[0m\u001b[0mw1\u001b[0m\u001b[1;33m)\u001b[0m\u001b[1;33m\u001b[0m\u001b[0m\n",
      "\u001b[1;31mNameError\u001b[0m: name 'from_address' is not defined"
     ]
    },
    {
     "name": "stdout",
     "output_type": "stream",
     "text": [
      "{epoch: 1552478478318, value: {x : -0.087, y : -0.026, z : -1.006}}\n",
      "1822499346064\n",
      "<class 'int'>\n",
      "c_void_p(1822499346064)\n"
     ]
    },
    {
     "ename": "NameError",
     "evalue": "name 'from_address' is not defined",
     "output_type": "error",
     "traceback": [
      "\u001b[1;31m---------------------------------------------------------------------------\u001b[0m",
      "\u001b[1;31mNameError\u001b[0m                                 Traceback (most recent call last)",
      "\u001b[1;32m_ctypes/callbacks.c\u001b[0m in \u001b[0;36m'calling callback function'\u001b[1;34m()\u001b[0m\n",
      "\u001b[1;32m<ipython-input-25-d9a541f27acc>\u001b[0m in \u001b[0;36mdata_callback\u001b[1;34m(context, p)\u001b[0m\n\u001b[0;32m     24\u001b[0m         \u001b[0mwriter\u001b[0m \u001b[1;33m=\u001b[0m \u001b[0mcast\u001b[0m\u001b[1;33m(\u001b[0m\u001b[0mcontext\u001b[0m\u001b[1;33m,\u001b[0m\u001b[0mc_void_p\u001b[0m\u001b[1;33m)\u001b[0m\u001b[1;33m\u001b[0m\u001b[0m\n\u001b[0;32m     25\u001b[0m         \u001b[0mprint\u001b[0m\u001b[1;33m(\u001b[0m\u001b[0mwriter\u001b[0m\u001b[1;33m)\u001b[0m\u001b[1;33m\u001b[0m\u001b[0m\n\u001b[1;32m---> 26\u001b[1;33m         \u001b[0mw1\u001b[0m \u001b[1;33m=\u001b[0m \u001b[0mfrom_address\u001b[0m\u001b[1;33m(\u001b[0m\u001b[0mwriter\u001b[0m\u001b[1;33m)\u001b[0m\u001b[1;33m\u001b[0m\u001b[0m\n\u001b[0m\u001b[0;32m     27\u001b[0m         \u001b[0mprint\u001b[0m\u001b[1;33m(\u001b[0m\u001b[0mtype\u001b[0m\u001b[1;33m(\u001b[0m\u001b[0mw1\u001b[0m\u001b[1;33m)\u001b[0m\u001b[1;33m)\u001b[0m\u001b[1;33m\u001b[0m\u001b[0m\n\u001b[0;32m     28\u001b[0m         \u001b[0mprint\u001b[0m\u001b[1;33m(\u001b[0m\u001b[0mw1\u001b[0m\u001b[1;33m)\u001b[0m\u001b[1;33m\u001b[0m\u001b[0m\n",
      "\u001b[1;31mNameError\u001b[0m: name 'from_address' is not defined"
     ]
    },
    {
     "name": "stdout",
     "output_type": "stream",
     "text": [
      "{epoch: 1552478478318, value: {x : -0.087, y : -0.026, z : -1.006}}\n",
      "1822499446416\n",
      "<class 'int'>\n",
      "c_void_p(1822499446416)\n"
     ]
    },
    {
     "ename": "NameError",
     "evalue": "name 'from_address' is not defined",
     "output_type": "error",
     "traceback": [
      "\u001b[1;31m---------------------------------------------------------------------------\u001b[0m",
      "\u001b[1;31mNameError\u001b[0m                                 Traceback (most recent call last)",
      "\u001b[1;32m_ctypes/callbacks.c\u001b[0m in \u001b[0;36m'calling callback function'\u001b[1;34m()\u001b[0m\n",
      "\u001b[1;32m<ipython-input-25-d9a541f27acc>\u001b[0m in \u001b[0;36mdata_callback\u001b[1;34m(context, p)\u001b[0m\n\u001b[0;32m     24\u001b[0m         \u001b[0mwriter\u001b[0m \u001b[1;33m=\u001b[0m \u001b[0mcast\u001b[0m\u001b[1;33m(\u001b[0m\u001b[0mcontext\u001b[0m\u001b[1;33m,\u001b[0m\u001b[0mc_void_p\u001b[0m\u001b[1;33m)\u001b[0m\u001b[1;33m\u001b[0m\u001b[0m\n\u001b[0;32m     25\u001b[0m         \u001b[0mprint\u001b[0m\u001b[1;33m(\u001b[0m\u001b[0mwriter\u001b[0m\u001b[1;33m)\u001b[0m\u001b[1;33m\u001b[0m\u001b[0m\n\u001b[1;32m---> 26\u001b[1;33m         \u001b[0mw1\u001b[0m \u001b[1;33m=\u001b[0m \u001b[0mfrom_address\u001b[0m\u001b[1;33m(\u001b[0m\u001b[0mwriter\u001b[0m\u001b[1;33m)\u001b[0m\u001b[1;33m\u001b[0m\u001b[0m\n\u001b[0m\u001b[0;32m     27\u001b[0m         \u001b[0mprint\u001b[0m\u001b[1;33m(\u001b[0m\u001b[0mtype\u001b[0m\u001b[1;33m(\u001b[0m\u001b[0mw1\u001b[0m\u001b[1;33m)\u001b[0m\u001b[1;33m)\u001b[0m\u001b[1;33m\u001b[0m\u001b[0m\n\u001b[0;32m     28\u001b[0m         \u001b[0mprint\u001b[0m\u001b[1;33m(\u001b[0m\u001b[0mw1\u001b[0m\u001b[1;33m)\u001b[0m\u001b[1;33m\u001b[0m\u001b[0m\n",
      "\u001b[1;31mNameError\u001b[0m: name 'from_address' is not defined"
     ]
    },
    {
     "name": "stdout",
     "output_type": "stream",
     "text": [
      "{epoch: 1552478478642, value: {x : -0.085, y : -0.026, z : -1.009}}\n",
      "1822499346064\n",
      "<class 'int'>\n",
      "c_void_p(1822499346064)\n"
     ]
    },
    {
     "ename": "NameError",
     "evalue": "name 'from_address' is not defined",
     "output_type": "error",
     "traceback": [
      "\u001b[1;31m---------------------------------------------------------------------------\u001b[0m",
      "\u001b[1;31mNameError\u001b[0m                                 Traceback (most recent call last)",
      "\u001b[1;32m_ctypes/callbacks.c\u001b[0m in \u001b[0;36m'calling callback function'\u001b[1;34m()\u001b[0m\n",
      "\u001b[1;32m<ipython-input-25-d9a541f27acc>\u001b[0m in \u001b[0;36mdata_callback\u001b[1;34m(context, p)\u001b[0m\n\u001b[0;32m     24\u001b[0m         \u001b[0mwriter\u001b[0m \u001b[1;33m=\u001b[0m \u001b[0mcast\u001b[0m\u001b[1;33m(\u001b[0m\u001b[0mcontext\u001b[0m\u001b[1;33m,\u001b[0m\u001b[0mc_void_p\u001b[0m\u001b[1;33m)\u001b[0m\u001b[1;33m\u001b[0m\u001b[0m\n\u001b[0;32m     25\u001b[0m         \u001b[0mprint\u001b[0m\u001b[1;33m(\u001b[0m\u001b[0mwriter\u001b[0m\u001b[1;33m)\u001b[0m\u001b[1;33m\u001b[0m\u001b[0m\n\u001b[1;32m---> 26\u001b[1;33m         \u001b[0mw1\u001b[0m \u001b[1;33m=\u001b[0m \u001b[0mfrom_address\u001b[0m\u001b[1;33m(\u001b[0m\u001b[0mwriter\u001b[0m\u001b[1;33m)\u001b[0m\u001b[1;33m\u001b[0m\u001b[0m\n\u001b[0m\u001b[0;32m     27\u001b[0m         \u001b[0mprint\u001b[0m\u001b[1;33m(\u001b[0m\u001b[0mtype\u001b[0m\u001b[1;33m(\u001b[0m\u001b[0mw1\u001b[0m\u001b[1;33m)\u001b[0m\u001b[1;33m)\u001b[0m\u001b[1;33m\u001b[0m\u001b[0m\n\u001b[0;32m     28\u001b[0m         \u001b[0mprint\u001b[0m\u001b[1;33m(\u001b[0m\u001b[0mw1\u001b[0m\u001b[1;33m)\u001b[0m\u001b[1;33m\u001b[0m\u001b[0m\n",
      "\u001b[1;31mNameError\u001b[0m: name 'from_address' is not defined"
     ]
    },
    {
     "name": "stdout",
     "output_type": "stream",
     "text": [
      "{epoch: 1552478478642, value: {x : -0.085, y : -0.026, z : -1.009}}\n",
      "1822499446416\n",
      "<class 'int'>\n",
      "c_void_p(1822499446416)\n"
     ]
    },
    {
     "ename": "NameError",
     "evalue": "name 'from_address' is not defined",
     "output_type": "error",
     "traceback": [
      "\u001b[1;31m---------------------------------------------------------------------------\u001b[0m",
      "\u001b[1;31mNameError\u001b[0m                                 Traceback (most recent call last)",
      "\u001b[1;32m_ctypes/callbacks.c\u001b[0m in \u001b[0;36m'calling callback function'\u001b[1;34m()\u001b[0m\n",
      "\u001b[1;32m<ipython-input-25-d9a541f27acc>\u001b[0m in \u001b[0;36mdata_callback\u001b[1;34m(context, p)\u001b[0m\n\u001b[0;32m     24\u001b[0m         \u001b[0mwriter\u001b[0m \u001b[1;33m=\u001b[0m \u001b[0mcast\u001b[0m\u001b[1;33m(\u001b[0m\u001b[0mcontext\u001b[0m\u001b[1;33m,\u001b[0m\u001b[0mc_void_p\u001b[0m\u001b[1;33m)\u001b[0m\u001b[1;33m\u001b[0m\u001b[0m\n\u001b[0;32m     25\u001b[0m         \u001b[0mprint\u001b[0m\u001b[1;33m(\u001b[0m\u001b[0mwriter\u001b[0m\u001b[1;33m)\u001b[0m\u001b[1;33m\u001b[0m\u001b[0m\n\u001b[1;32m---> 26\u001b[1;33m         \u001b[0mw1\u001b[0m \u001b[1;33m=\u001b[0m \u001b[0mfrom_address\u001b[0m\u001b[1;33m(\u001b[0m\u001b[0mwriter\u001b[0m\u001b[1;33m)\u001b[0m\u001b[1;33m\u001b[0m\u001b[0m\n\u001b[0m\u001b[0;32m     27\u001b[0m         \u001b[0mprint\u001b[0m\u001b[1;33m(\u001b[0m\u001b[0mtype\u001b[0m\u001b[1;33m(\u001b[0m\u001b[0mw1\u001b[0m\u001b[1;33m)\u001b[0m\u001b[1;33m)\u001b[0m\u001b[1;33m\u001b[0m\u001b[0m\n\u001b[0;32m     28\u001b[0m         \u001b[0mprint\u001b[0m\u001b[1;33m(\u001b[0m\u001b[0mw1\u001b[0m\u001b[1;33m)\u001b[0m\u001b[1;33m\u001b[0m\u001b[0m\n",
      "\u001b[1;31mNameError\u001b[0m: name 'from_address' is not defined"
     ]
    },
    {
     "name": "stdout",
     "output_type": "stream",
     "text": [
      "{epoch: 1552478478964, value: {x : -0.089, y : -0.034, z : -1.003}}\n",
      "1822499346064\n",
      "<class 'int'>\n",
      "c_void_p(1822499346064)\n"
     ]
    },
    {
     "ename": "NameError",
     "evalue": "name 'from_address' is not defined",
     "output_type": "error",
     "traceback": [
      "\u001b[1;31m---------------------------------------------------------------------------\u001b[0m",
      "\u001b[1;31mNameError\u001b[0m                                 Traceback (most recent call last)",
      "\u001b[1;32m_ctypes/callbacks.c\u001b[0m in \u001b[0;36m'calling callback function'\u001b[1;34m()\u001b[0m\n",
      "\u001b[1;32m<ipython-input-25-d9a541f27acc>\u001b[0m in \u001b[0;36mdata_callback\u001b[1;34m(context, p)\u001b[0m\n\u001b[0;32m     24\u001b[0m         \u001b[0mwriter\u001b[0m \u001b[1;33m=\u001b[0m \u001b[0mcast\u001b[0m\u001b[1;33m(\u001b[0m\u001b[0mcontext\u001b[0m\u001b[1;33m,\u001b[0m\u001b[0mc_void_p\u001b[0m\u001b[1;33m)\u001b[0m\u001b[1;33m\u001b[0m\u001b[0m\n\u001b[0;32m     25\u001b[0m         \u001b[0mprint\u001b[0m\u001b[1;33m(\u001b[0m\u001b[0mwriter\u001b[0m\u001b[1;33m)\u001b[0m\u001b[1;33m\u001b[0m\u001b[0m\n\u001b[1;32m---> 26\u001b[1;33m         \u001b[0mw1\u001b[0m \u001b[1;33m=\u001b[0m \u001b[0mfrom_address\u001b[0m\u001b[1;33m(\u001b[0m\u001b[0mwriter\u001b[0m\u001b[1;33m)\u001b[0m\u001b[1;33m\u001b[0m\u001b[0m\n\u001b[0m\u001b[0;32m     27\u001b[0m         \u001b[0mprint\u001b[0m\u001b[1;33m(\u001b[0m\u001b[0mtype\u001b[0m\u001b[1;33m(\u001b[0m\u001b[0mw1\u001b[0m\u001b[1;33m)\u001b[0m\u001b[1;33m)\u001b[0m\u001b[1;33m\u001b[0m\u001b[0m\n\u001b[0;32m     28\u001b[0m         \u001b[0mprint\u001b[0m\u001b[1;33m(\u001b[0m\u001b[0mw1\u001b[0m\u001b[1;33m)\u001b[0m\u001b[1;33m\u001b[0m\u001b[0m\n",
      "\u001b[1;31mNameError\u001b[0m: name 'from_address' is not defined"
     ]
    },
    {
     "name": "stdout",
     "output_type": "stream",
     "text": [
      "{epoch: 1552478478964, value: {x : -0.089, y : -0.034, z : -1.003}}\n",
      "1822499446416\n",
      "<class 'int'>\n",
      "c_void_p(1822499446416)\n"
     ]
    },
    {
     "ename": "NameError",
     "evalue": "name 'from_address' is not defined",
     "output_type": "error",
     "traceback": [
      "\u001b[1;31m---------------------------------------------------------------------------\u001b[0m",
      "\u001b[1;31mNameError\u001b[0m                                 Traceback (most recent call last)",
      "\u001b[1;32m_ctypes/callbacks.c\u001b[0m in \u001b[0;36m'calling callback function'\u001b[1;34m()\u001b[0m\n",
      "\u001b[1;32m<ipython-input-25-d9a541f27acc>\u001b[0m in \u001b[0;36mdata_callback\u001b[1;34m(context, p)\u001b[0m\n\u001b[0;32m     24\u001b[0m         \u001b[0mwriter\u001b[0m \u001b[1;33m=\u001b[0m \u001b[0mcast\u001b[0m\u001b[1;33m(\u001b[0m\u001b[0mcontext\u001b[0m\u001b[1;33m,\u001b[0m\u001b[0mc_void_p\u001b[0m\u001b[1;33m)\u001b[0m\u001b[1;33m\u001b[0m\u001b[0m\n\u001b[0;32m     25\u001b[0m         \u001b[0mprint\u001b[0m\u001b[1;33m(\u001b[0m\u001b[0mwriter\u001b[0m\u001b[1;33m)\u001b[0m\u001b[1;33m\u001b[0m\u001b[0m\n\u001b[1;32m---> 26\u001b[1;33m         \u001b[0mw1\u001b[0m \u001b[1;33m=\u001b[0m \u001b[0mfrom_address\u001b[0m\u001b[1;33m(\u001b[0m\u001b[0mwriter\u001b[0m\u001b[1;33m)\u001b[0m\u001b[1;33m\u001b[0m\u001b[0m\n\u001b[0m\u001b[0;32m     27\u001b[0m         \u001b[0mprint\u001b[0m\u001b[1;33m(\u001b[0m\u001b[0mtype\u001b[0m\u001b[1;33m(\u001b[0m\u001b[0mw1\u001b[0m\u001b[1;33m)\u001b[0m\u001b[1;33m)\u001b[0m\u001b[1;33m\u001b[0m\u001b[0m\n\u001b[0;32m     28\u001b[0m         \u001b[0mprint\u001b[0m\u001b[1;33m(\u001b[0m\u001b[0mw1\u001b[0m\u001b[1;33m)\u001b[0m\u001b[1;33m\u001b[0m\u001b[0m\n",
      "\u001b[1;31mNameError\u001b[0m: name 'from_address' is not defined"
     ]
    },
    {
     "name": "stdout",
     "output_type": "stream",
     "text": [
      "{epoch: 1552478479288, value: {x : -0.083, y : -0.040, z : -1.001}}\n",
      "1822499346064\n",
      "<class 'int'>\n",
      "c_void_p(1822499346064)\n"
     ]
    },
    {
     "ename": "NameError",
     "evalue": "name 'from_address' is not defined",
     "output_type": "error",
     "traceback": [
      "\u001b[1;31m---------------------------------------------------------------------------\u001b[0m",
      "\u001b[1;31mNameError\u001b[0m                                 Traceback (most recent call last)",
      "\u001b[1;32m_ctypes/callbacks.c\u001b[0m in \u001b[0;36m'calling callback function'\u001b[1;34m()\u001b[0m\n",
      "\u001b[1;32m<ipython-input-25-d9a541f27acc>\u001b[0m in \u001b[0;36mdata_callback\u001b[1;34m(context, p)\u001b[0m\n\u001b[0;32m     24\u001b[0m         \u001b[0mwriter\u001b[0m \u001b[1;33m=\u001b[0m \u001b[0mcast\u001b[0m\u001b[1;33m(\u001b[0m\u001b[0mcontext\u001b[0m\u001b[1;33m,\u001b[0m\u001b[0mc_void_p\u001b[0m\u001b[1;33m)\u001b[0m\u001b[1;33m\u001b[0m\u001b[0m\n\u001b[0;32m     25\u001b[0m         \u001b[0mprint\u001b[0m\u001b[1;33m(\u001b[0m\u001b[0mwriter\u001b[0m\u001b[1;33m)\u001b[0m\u001b[1;33m\u001b[0m\u001b[0m\n\u001b[1;32m---> 26\u001b[1;33m         \u001b[0mw1\u001b[0m \u001b[1;33m=\u001b[0m \u001b[0mfrom_address\u001b[0m\u001b[1;33m(\u001b[0m\u001b[0mwriter\u001b[0m\u001b[1;33m)\u001b[0m\u001b[1;33m\u001b[0m\u001b[0m\n\u001b[0m\u001b[0;32m     27\u001b[0m         \u001b[0mprint\u001b[0m\u001b[1;33m(\u001b[0m\u001b[0mtype\u001b[0m\u001b[1;33m(\u001b[0m\u001b[0mw1\u001b[0m\u001b[1;33m)\u001b[0m\u001b[1;33m)\u001b[0m\u001b[1;33m\u001b[0m\u001b[0m\n\u001b[0;32m     28\u001b[0m         \u001b[0mprint\u001b[0m\u001b[1;33m(\u001b[0m\u001b[0mw1\u001b[0m\u001b[1;33m)\u001b[0m\u001b[1;33m\u001b[0m\u001b[0m\n",
      "\u001b[1;31mNameError\u001b[0m: name 'from_address' is not defined"
     ]
    },
    {
     "name": "stdout",
     "output_type": "stream",
     "text": [
      "{epoch: 1552478479288, value: {x : -0.083, y : -0.040, z : -1.001}}\n",
      "1822499446416\n",
      "<class 'int'>\n",
      "c_void_p(1822499446416)\n"
     ]
    },
    {
     "ename": "NameError",
     "evalue": "name 'from_address' is not defined",
     "output_type": "error",
     "traceback": [
      "\u001b[1;31m---------------------------------------------------------------------------\u001b[0m",
      "\u001b[1;31mNameError\u001b[0m                                 Traceback (most recent call last)",
      "\u001b[1;32m_ctypes/callbacks.c\u001b[0m in \u001b[0;36m'calling callback function'\u001b[1;34m()\u001b[0m\n",
      "\u001b[1;32m<ipython-input-25-d9a541f27acc>\u001b[0m in \u001b[0;36mdata_callback\u001b[1;34m(context, p)\u001b[0m\n\u001b[0;32m     24\u001b[0m         \u001b[0mwriter\u001b[0m \u001b[1;33m=\u001b[0m \u001b[0mcast\u001b[0m\u001b[1;33m(\u001b[0m\u001b[0mcontext\u001b[0m\u001b[1;33m,\u001b[0m\u001b[0mc_void_p\u001b[0m\u001b[1;33m)\u001b[0m\u001b[1;33m\u001b[0m\u001b[0m\n\u001b[0;32m     25\u001b[0m         \u001b[0mprint\u001b[0m\u001b[1;33m(\u001b[0m\u001b[0mwriter\u001b[0m\u001b[1;33m)\u001b[0m\u001b[1;33m\u001b[0m\u001b[0m\n\u001b[1;32m---> 26\u001b[1;33m         \u001b[0mw1\u001b[0m \u001b[1;33m=\u001b[0m \u001b[0mfrom_address\u001b[0m\u001b[1;33m(\u001b[0m\u001b[0mwriter\u001b[0m\u001b[1;33m)\u001b[0m\u001b[1;33m\u001b[0m\u001b[0m\n\u001b[0m\u001b[0;32m     27\u001b[0m         \u001b[0mprint\u001b[0m\u001b[1;33m(\u001b[0m\u001b[0mtype\u001b[0m\u001b[1;33m(\u001b[0m\u001b[0mw1\u001b[0m\u001b[1;33m)\u001b[0m\u001b[1;33m)\u001b[0m\u001b[1;33m\u001b[0m\u001b[0m\n\u001b[0;32m     28\u001b[0m         \u001b[0mprint\u001b[0m\u001b[1;33m(\u001b[0m\u001b[0mw1\u001b[0m\u001b[1;33m)\u001b[0m\u001b[1;33m\u001b[0m\u001b[0m\n",
      "\u001b[1;31mNameError\u001b[0m: name 'from_address' is not defined"
     ]
    },
    {
     "name": "stdout",
     "output_type": "stream",
     "text": [
      "{epoch: 1552478479611, value: {x : -0.076, y : -0.037, z : -1.015}}\n",
      "1822499346064\n",
      "<class 'int'>\n",
      "c_void_p(1822499346064)\n"
     ]
    },
    {
     "ename": "NameError",
     "evalue": "name 'from_address' is not defined",
     "output_type": "error",
     "traceback": [
      "\u001b[1;31m---------------------------------------------------------------------------\u001b[0m",
      "\u001b[1;31mNameError\u001b[0m                                 Traceback (most recent call last)",
      "\u001b[1;32m_ctypes/callbacks.c\u001b[0m in \u001b[0;36m'calling callback function'\u001b[1;34m()\u001b[0m\n",
      "\u001b[1;32m<ipython-input-25-d9a541f27acc>\u001b[0m in \u001b[0;36mdata_callback\u001b[1;34m(context, p)\u001b[0m\n\u001b[0;32m     24\u001b[0m         \u001b[0mwriter\u001b[0m \u001b[1;33m=\u001b[0m \u001b[0mcast\u001b[0m\u001b[1;33m(\u001b[0m\u001b[0mcontext\u001b[0m\u001b[1;33m,\u001b[0m\u001b[0mc_void_p\u001b[0m\u001b[1;33m)\u001b[0m\u001b[1;33m\u001b[0m\u001b[0m\n\u001b[0;32m     25\u001b[0m         \u001b[0mprint\u001b[0m\u001b[1;33m(\u001b[0m\u001b[0mwriter\u001b[0m\u001b[1;33m)\u001b[0m\u001b[1;33m\u001b[0m\u001b[0m\n\u001b[1;32m---> 26\u001b[1;33m         \u001b[0mw1\u001b[0m \u001b[1;33m=\u001b[0m \u001b[0mfrom_address\u001b[0m\u001b[1;33m(\u001b[0m\u001b[0mwriter\u001b[0m\u001b[1;33m)\u001b[0m\u001b[1;33m\u001b[0m\u001b[0m\n\u001b[0m\u001b[0;32m     27\u001b[0m         \u001b[0mprint\u001b[0m\u001b[1;33m(\u001b[0m\u001b[0mtype\u001b[0m\u001b[1;33m(\u001b[0m\u001b[0mw1\u001b[0m\u001b[1;33m)\u001b[0m\u001b[1;33m)\u001b[0m\u001b[1;33m\u001b[0m\u001b[0m\n\u001b[0;32m     28\u001b[0m         \u001b[0mprint\u001b[0m\u001b[1;33m(\u001b[0m\u001b[0mw1\u001b[0m\u001b[1;33m)\u001b[0m\u001b[1;33m\u001b[0m\u001b[0m\n",
      "\u001b[1;31mNameError\u001b[0m: name 'from_address' is not defined"
     ]
    },
    {
     "name": "stdout",
     "output_type": "stream",
     "text": [
      "{epoch: 1552478479611, value: {x : -0.076, y : -0.037, z : -1.015}}\n",
      "1822499446416\n",
      "<class 'int'>\n",
      "c_void_p(1822499446416)\n"
     ]
    },
    {
     "ename": "NameError",
     "evalue": "name 'from_address' is not defined",
     "output_type": "error",
     "traceback": [
      "\u001b[1;31m---------------------------------------------------------------------------\u001b[0m",
      "\u001b[1;31mNameError\u001b[0m                                 Traceback (most recent call last)",
      "\u001b[1;32m_ctypes/callbacks.c\u001b[0m in \u001b[0;36m'calling callback function'\u001b[1;34m()\u001b[0m\n",
      "\u001b[1;32m<ipython-input-25-d9a541f27acc>\u001b[0m in \u001b[0;36mdata_callback\u001b[1;34m(context, p)\u001b[0m\n\u001b[0;32m     24\u001b[0m         \u001b[0mwriter\u001b[0m \u001b[1;33m=\u001b[0m \u001b[0mcast\u001b[0m\u001b[1;33m(\u001b[0m\u001b[0mcontext\u001b[0m\u001b[1;33m,\u001b[0m\u001b[0mc_void_p\u001b[0m\u001b[1;33m)\u001b[0m\u001b[1;33m\u001b[0m\u001b[0m\n\u001b[0;32m     25\u001b[0m         \u001b[0mprint\u001b[0m\u001b[1;33m(\u001b[0m\u001b[0mwriter\u001b[0m\u001b[1;33m)\u001b[0m\u001b[1;33m\u001b[0m\u001b[0m\n\u001b[1;32m---> 26\u001b[1;33m         \u001b[0mw1\u001b[0m \u001b[1;33m=\u001b[0m \u001b[0mfrom_address\u001b[0m\u001b[1;33m(\u001b[0m\u001b[0mwriter\u001b[0m\u001b[1;33m)\u001b[0m\u001b[1;33m\u001b[0m\u001b[0m\n\u001b[0m\u001b[0;32m     27\u001b[0m         \u001b[0mprint\u001b[0m\u001b[1;33m(\u001b[0m\u001b[0mtype\u001b[0m\u001b[1;33m(\u001b[0m\u001b[0mw1\u001b[0m\u001b[1;33m)\u001b[0m\u001b[1;33m)\u001b[0m\u001b[1;33m\u001b[0m\u001b[0m\n\u001b[0;32m     28\u001b[0m         \u001b[0mprint\u001b[0m\u001b[1;33m(\u001b[0m\u001b[0mw1\u001b[0m\u001b[1;33m)\u001b[0m\u001b[1;33m\u001b[0m\u001b[0m\n",
      "\u001b[1;31mNameError\u001b[0m: name 'from_address' is not defined"
     ]
    },
    {
     "name": "stdout",
     "output_type": "stream",
     "text": [
      "{epoch: 1552478479935, value: {x : -0.090, y : -0.026, z : -1.011}}\n",
      "1822499346064\n",
      "<class 'int'>\n",
      "c_void_p(1822499346064)\n"
     ]
    },
    {
     "ename": "NameError",
     "evalue": "name 'from_address' is not defined",
     "output_type": "error",
     "traceback": [
      "\u001b[1;31m---------------------------------------------------------------------------\u001b[0m",
      "\u001b[1;31mNameError\u001b[0m                                 Traceback (most recent call last)",
      "\u001b[1;32m_ctypes/callbacks.c\u001b[0m in \u001b[0;36m'calling callback function'\u001b[1;34m()\u001b[0m\n",
      "\u001b[1;32m<ipython-input-25-d9a541f27acc>\u001b[0m in \u001b[0;36mdata_callback\u001b[1;34m(context, p)\u001b[0m\n\u001b[0;32m     24\u001b[0m         \u001b[0mwriter\u001b[0m \u001b[1;33m=\u001b[0m \u001b[0mcast\u001b[0m\u001b[1;33m(\u001b[0m\u001b[0mcontext\u001b[0m\u001b[1;33m,\u001b[0m\u001b[0mc_void_p\u001b[0m\u001b[1;33m)\u001b[0m\u001b[1;33m\u001b[0m\u001b[0m\n\u001b[0;32m     25\u001b[0m         \u001b[0mprint\u001b[0m\u001b[1;33m(\u001b[0m\u001b[0mwriter\u001b[0m\u001b[1;33m)\u001b[0m\u001b[1;33m\u001b[0m\u001b[0m\n\u001b[1;32m---> 26\u001b[1;33m         \u001b[0mw1\u001b[0m \u001b[1;33m=\u001b[0m \u001b[0mfrom_address\u001b[0m\u001b[1;33m(\u001b[0m\u001b[0mwriter\u001b[0m\u001b[1;33m)\u001b[0m\u001b[1;33m\u001b[0m\u001b[0m\n\u001b[0m\u001b[0;32m     27\u001b[0m         \u001b[0mprint\u001b[0m\u001b[1;33m(\u001b[0m\u001b[0mtype\u001b[0m\u001b[1;33m(\u001b[0m\u001b[0mw1\u001b[0m\u001b[1;33m)\u001b[0m\u001b[1;33m)\u001b[0m\u001b[1;33m\u001b[0m\u001b[0m\n\u001b[0;32m     28\u001b[0m         \u001b[0mprint\u001b[0m\u001b[1;33m(\u001b[0m\u001b[0mw1\u001b[0m\u001b[1;33m)\u001b[0m\u001b[1;33m\u001b[0m\u001b[0m\n",
      "\u001b[1;31mNameError\u001b[0m: name 'from_address' is not defined"
     ]
    },
    {
     "name": "stdout",
     "output_type": "stream",
     "text": [
      "{epoch: 1552478479935, value: {x : -0.090, y : -0.026, z : -1.011}}\n",
      "1822499446416\n",
      "<class 'int'>\n",
      "c_void_p(1822499446416)\n"
     ]
    },
    {
     "ename": "NameError",
     "evalue": "name 'from_address' is not defined",
     "output_type": "error",
     "traceback": [
      "\u001b[1;31m---------------------------------------------------------------------------\u001b[0m",
      "\u001b[1;31mNameError\u001b[0m                                 Traceback (most recent call last)",
      "\u001b[1;32m_ctypes/callbacks.c\u001b[0m in \u001b[0;36m'calling callback function'\u001b[1;34m()\u001b[0m\n",
      "\u001b[1;32m<ipython-input-25-d9a541f27acc>\u001b[0m in \u001b[0;36mdata_callback\u001b[1;34m(context, p)\u001b[0m\n\u001b[0;32m     24\u001b[0m         \u001b[0mwriter\u001b[0m \u001b[1;33m=\u001b[0m \u001b[0mcast\u001b[0m\u001b[1;33m(\u001b[0m\u001b[0mcontext\u001b[0m\u001b[1;33m,\u001b[0m\u001b[0mc_void_p\u001b[0m\u001b[1;33m)\u001b[0m\u001b[1;33m\u001b[0m\u001b[0m\n\u001b[0;32m     25\u001b[0m         \u001b[0mprint\u001b[0m\u001b[1;33m(\u001b[0m\u001b[0mwriter\u001b[0m\u001b[1;33m)\u001b[0m\u001b[1;33m\u001b[0m\u001b[0m\n\u001b[1;32m---> 26\u001b[1;33m         \u001b[0mw1\u001b[0m \u001b[1;33m=\u001b[0m \u001b[0mfrom_address\u001b[0m\u001b[1;33m(\u001b[0m\u001b[0mwriter\u001b[0m\u001b[1;33m)\u001b[0m\u001b[1;33m\u001b[0m\u001b[0m\n\u001b[0m\u001b[0;32m     27\u001b[0m         \u001b[0mprint\u001b[0m\u001b[1;33m(\u001b[0m\u001b[0mtype\u001b[0m\u001b[1;33m(\u001b[0m\u001b[0mw1\u001b[0m\u001b[1;33m)\u001b[0m\u001b[1;33m)\u001b[0m\u001b[1;33m\u001b[0m\u001b[0m\n\u001b[0;32m     28\u001b[0m         \u001b[0mprint\u001b[0m\u001b[1;33m(\u001b[0m\u001b[0mw1\u001b[0m\u001b[1;33m)\u001b[0m\u001b[1;33m\u001b[0m\u001b[0m\n",
      "\u001b[1;31mNameError\u001b[0m: name 'from_address' is not defined"
     ]
    },
    {
     "name": "stdout",
     "output_type": "stream",
     "text": [
      "{epoch: 1552478480259, value: {x : -0.093, y : -0.029, z : -1.002}}\n",
      "1822499346064\n",
      "<class 'int'>\n",
      "c_void_p(1822499346064)\n"
     ]
    },
    {
     "ename": "NameError",
     "evalue": "name 'from_address' is not defined",
     "output_type": "error",
     "traceback": [
      "\u001b[1;31m---------------------------------------------------------------------------\u001b[0m",
      "\u001b[1;31mNameError\u001b[0m                                 Traceback (most recent call last)",
      "\u001b[1;32m_ctypes/callbacks.c\u001b[0m in \u001b[0;36m'calling callback function'\u001b[1;34m()\u001b[0m\n",
      "\u001b[1;32m<ipython-input-25-d9a541f27acc>\u001b[0m in \u001b[0;36mdata_callback\u001b[1;34m(context, p)\u001b[0m\n\u001b[0;32m     24\u001b[0m         \u001b[0mwriter\u001b[0m \u001b[1;33m=\u001b[0m \u001b[0mcast\u001b[0m\u001b[1;33m(\u001b[0m\u001b[0mcontext\u001b[0m\u001b[1;33m,\u001b[0m\u001b[0mc_void_p\u001b[0m\u001b[1;33m)\u001b[0m\u001b[1;33m\u001b[0m\u001b[0m\n\u001b[0;32m     25\u001b[0m         \u001b[0mprint\u001b[0m\u001b[1;33m(\u001b[0m\u001b[0mwriter\u001b[0m\u001b[1;33m)\u001b[0m\u001b[1;33m\u001b[0m\u001b[0m\n\u001b[1;32m---> 26\u001b[1;33m         \u001b[0mw1\u001b[0m \u001b[1;33m=\u001b[0m \u001b[0mfrom_address\u001b[0m\u001b[1;33m(\u001b[0m\u001b[0mwriter\u001b[0m\u001b[1;33m)\u001b[0m\u001b[1;33m\u001b[0m\u001b[0m\n\u001b[0m\u001b[0;32m     27\u001b[0m         \u001b[0mprint\u001b[0m\u001b[1;33m(\u001b[0m\u001b[0mtype\u001b[0m\u001b[1;33m(\u001b[0m\u001b[0mw1\u001b[0m\u001b[1;33m)\u001b[0m\u001b[1;33m)\u001b[0m\u001b[1;33m\u001b[0m\u001b[0m\n\u001b[0;32m     28\u001b[0m         \u001b[0mprint\u001b[0m\u001b[1;33m(\u001b[0m\u001b[0mw1\u001b[0m\u001b[1;33m)\u001b[0m\u001b[1;33m\u001b[0m\u001b[0m\n",
      "\u001b[1;31mNameError\u001b[0m: name 'from_address' is not defined"
     ]
    },
    {
     "name": "stdout",
     "output_type": "stream",
     "text": [
      "{epoch: 1552478480259, value: {x : -0.093, y : -0.029, z : -1.002}}\n",
      "1822499446416\n",
      "<class 'int'>\n",
      "c_void_p(1822499446416)\n"
     ]
    },
    {
     "ename": "NameError",
     "evalue": "name 'from_address' is not defined",
     "output_type": "error",
     "traceback": [
      "\u001b[1;31m---------------------------------------------------------------------------\u001b[0m",
      "\u001b[1;31mNameError\u001b[0m                                 Traceback (most recent call last)",
      "\u001b[1;32m_ctypes/callbacks.c\u001b[0m in \u001b[0;36m'calling callback function'\u001b[1;34m()\u001b[0m\n",
      "\u001b[1;32m<ipython-input-25-d9a541f27acc>\u001b[0m in \u001b[0;36mdata_callback\u001b[1;34m(context, p)\u001b[0m\n\u001b[0;32m     24\u001b[0m         \u001b[0mwriter\u001b[0m \u001b[1;33m=\u001b[0m \u001b[0mcast\u001b[0m\u001b[1;33m(\u001b[0m\u001b[0mcontext\u001b[0m\u001b[1;33m,\u001b[0m\u001b[0mc_void_p\u001b[0m\u001b[1;33m)\u001b[0m\u001b[1;33m\u001b[0m\u001b[0m\n\u001b[0;32m     25\u001b[0m         \u001b[0mprint\u001b[0m\u001b[1;33m(\u001b[0m\u001b[0mwriter\u001b[0m\u001b[1;33m)\u001b[0m\u001b[1;33m\u001b[0m\u001b[0m\n\u001b[1;32m---> 26\u001b[1;33m         \u001b[0mw1\u001b[0m \u001b[1;33m=\u001b[0m \u001b[0mfrom_address\u001b[0m\u001b[1;33m(\u001b[0m\u001b[0mwriter\u001b[0m\u001b[1;33m)\u001b[0m\u001b[1;33m\u001b[0m\u001b[0m\n\u001b[0m\u001b[0;32m     27\u001b[0m         \u001b[0mprint\u001b[0m\u001b[1;33m(\u001b[0m\u001b[0mtype\u001b[0m\u001b[1;33m(\u001b[0m\u001b[0mw1\u001b[0m\u001b[1;33m)\u001b[0m\u001b[1;33m)\u001b[0m\u001b[1;33m\u001b[0m\u001b[0m\n\u001b[0;32m     28\u001b[0m         \u001b[0mprint\u001b[0m\u001b[1;33m(\u001b[0m\u001b[0mw1\u001b[0m\u001b[1;33m)\u001b[0m\u001b[1;33m\u001b[0m\u001b[0m\n",
      "\u001b[1;31mNameError\u001b[0m: name 'from_address' is not defined"
     ]
    },
    {
     "name": "stdout",
     "output_type": "stream",
     "text": [
      "{epoch: 1552478480581, value: {x : -0.085, y : -0.039, z : -1.001}}\n",
      "1822499346064\n",
      "<class 'int'>\n",
      "c_void_p(1822499346064)\n"
     ]
    },
    {
     "ename": "NameError",
     "evalue": "name 'from_address' is not defined",
     "output_type": "error",
     "traceback": [
      "\u001b[1;31m---------------------------------------------------------------------------\u001b[0m",
      "\u001b[1;31mNameError\u001b[0m                                 Traceback (most recent call last)",
      "\u001b[1;32m_ctypes/callbacks.c\u001b[0m in \u001b[0;36m'calling callback function'\u001b[1;34m()\u001b[0m\n",
      "\u001b[1;32m<ipython-input-25-d9a541f27acc>\u001b[0m in \u001b[0;36mdata_callback\u001b[1;34m(context, p)\u001b[0m\n\u001b[0;32m     24\u001b[0m         \u001b[0mwriter\u001b[0m \u001b[1;33m=\u001b[0m \u001b[0mcast\u001b[0m\u001b[1;33m(\u001b[0m\u001b[0mcontext\u001b[0m\u001b[1;33m,\u001b[0m\u001b[0mc_void_p\u001b[0m\u001b[1;33m)\u001b[0m\u001b[1;33m\u001b[0m\u001b[0m\n\u001b[0;32m     25\u001b[0m         \u001b[0mprint\u001b[0m\u001b[1;33m(\u001b[0m\u001b[0mwriter\u001b[0m\u001b[1;33m)\u001b[0m\u001b[1;33m\u001b[0m\u001b[0m\n\u001b[1;32m---> 26\u001b[1;33m         \u001b[0mw1\u001b[0m \u001b[1;33m=\u001b[0m \u001b[0mfrom_address\u001b[0m\u001b[1;33m(\u001b[0m\u001b[0mwriter\u001b[0m\u001b[1;33m)\u001b[0m\u001b[1;33m\u001b[0m\u001b[0m\n\u001b[0m\u001b[0;32m     27\u001b[0m         \u001b[0mprint\u001b[0m\u001b[1;33m(\u001b[0m\u001b[0mtype\u001b[0m\u001b[1;33m(\u001b[0m\u001b[0mw1\u001b[0m\u001b[1;33m)\u001b[0m\u001b[1;33m)\u001b[0m\u001b[1;33m\u001b[0m\u001b[0m\n\u001b[0;32m     28\u001b[0m         \u001b[0mprint\u001b[0m\u001b[1;33m(\u001b[0m\u001b[0mw1\u001b[0m\u001b[1;33m)\u001b[0m\u001b[1;33m\u001b[0m\u001b[0m\n",
      "\u001b[1;31mNameError\u001b[0m: name 'from_address' is not defined"
     ]
    },
    {
     "name": "stdout",
     "output_type": "stream",
     "text": [
      "{epoch: 1552478480581, value: {x : -0.085, y : -0.039, z : -1.001}}\n",
      "1822499446416\n",
      "<class 'int'>\n",
      "c_void_p(1822499446416)\n"
     ]
    },
    {
     "ename": "NameError",
     "evalue": "name 'from_address' is not defined",
     "output_type": "error",
     "traceback": [
      "\u001b[1;31m---------------------------------------------------------------------------\u001b[0m",
      "\u001b[1;31mNameError\u001b[0m                                 Traceback (most recent call last)",
      "\u001b[1;32m_ctypes/callbacks.c\u001b[0m in \u001b[0;36m'calling callback function'\u001b[1;34m()\u001b[0m\n",
      "\u001b[1;32m<ipython-input-25-d9a541f27acc>\u001b[0m in \u001b[0;36mdata_callback\u001b[1;34m(context, p)\u001b[0m\n\u001b[0;32m     24\u001b[0m         \u001b[0mwriter\u001b[0m \u001b[1;33m=\u001b[0m \u001b[0mcast\u001b[0m\u001b[1;33m(\u001b[0m\u001b[0mcontext\u001b[0m\u001b[1;33m,\u001b[0m\u001b[0mc_void_p\u001b[0m\u001b[1;33m)\u001b[0m\u001b[1;33m\u001b[0m\u001b[0m\n\u001b[0;32m     25\u001b[0m         \u001b[0mprint\u001b[0m\u001b[1;33m(\u001b[0m\u001b[0mwriter\u001b[0m\u001b[1;33m)\u001b[0m\u001b[1;33m\u001b[0m\u001b[0m\n\u001b[1;32m---> 26\u001b[1;33m         \u001b[0mw1\u001b[0m \u001b[1;33m=\u001b[0m \u001b[0mfrom_address\u001b[0m\u001b[1;33m(\u001b[0m\u001b[0mwriter\u001b[0m\u001b[1;33m)\u001b[0m\u001b[1;33m\u001b[0m\u001b[0m\n\u001b[0m\u001b[0;32m     27\u001b[0m         \u001b[0mprint\u001b[0m\u001b[1;33m(\u001b[0m\u001b[0mtype\u001b[0m\u001b[1;33m(\u001b[0m\u001b[0mw1\u001b[0m\u001b[1;33m)\u001b[0m\u001b[1;33m)\u001b[0m\u001b[1;33m\u001b[0m\u001b[0m\n\u001b[0;32m     28\u001b[0m         \u001b[0mprint\u001b[0m\u001b[1;33m(\u001b[0m\u001b[0mw1\u001b[0m\u001b[1;33m)\u001b[0m\u001b[1;33m\u001b[0m\u001b[0m\n",
      "\u001b[1;31mNameError\u001b[0m: name 'from_address' is not defined"
     ]
    },
    {
     "name": "stdout",
     "output_type": "stream",
     "text": [
      "Finished download data\n"
     ]
    }
   ],
   "source": [
    "download_setting = init_download_data_setting()\n",
    "download_handler = download_setting[0]\n",
    "callback = download_setting[1]\n",
    "sampling_and_log_acc(device,5.0)\n",
    "downloading_data(device,logger,callback,download_handler)\n"
   ]
  },
  {
   "cell_type": "code",
   "execution_count": 17,
   "metadata": {
    "collapsed": true
   },
   "outputs": [
    {
     "name": "stdout",
     "output_type": "stream",
     "text": [
      "start sampling data\n",
      "stop sampling data\n",
      "Downloading data\n",
      "Finished download data\n",
      "{epoch: 1552448207605, value: {x : -0.039, y : -0.013, z : 1.020}}\n",
      "{epoch: 1552448207929, value: {x : -0.039, y : -0.012, z : 1.033}}\n",
      "{epoch: 1552448208252, value: {x : -0.032, y : 0.000, z : 1.039}}\n",
      "{epoch: 1552448208578, value: {x : -0.020, y : 0.107, z : 1.089}}\n",
      "{epoch: 1552448208901, value: {x : -0.036, y : 0.024, z : 1.015}}\n",
      "{epoch: 1552448209225, value: {x : -0.031, y : 0.033, z : 1.019}}\n",
      "{epoch: 1552448209549, value: {x : -0.031, y : 0.021, z : 1.017}}\n",
      "{epoch: 1552448209874, value: {x : -0.037, y : 0.003, z : 1.020}}\n",
      "{epoch: 1552448210198, value: {x : -0.025, y : -0.001, z : 1.024}}\n",
      "{epoch: 1552448210521, value: {x : -0.034, y : -0.010, z : 1.031}}\n",
      "{epoch: 1552448210845, value: {x : -0.033, y : -0.014, z : 1.019}}\n",
      "{epoch: 1552448211169, value: {x : -0.037, y : 0.011, z : 1.033}}\n",
      "{epoch: 1552448211494, value: {x : -0.030, y : 0.017, z : 1.018}}\n",
      "{epoch: 1552448211818, value: {x : -0.042, y : 0.029, z : 1.004}}\n",
      "{epoch: 1552448212141, value: {x : -0.025, y : 0.031, z : 1.009}}\n",
      "{epoch: 1552448212465, value: {x : -0.040, y : 0.030, z : 1.018}}\n",
      "Finished download data\n"
     ]
    }
   ],
   "source": [
    "sampling_and_log_acc(device,5.0)\n",
    "downloading_data(device,logger,callback,download_handler)"
   ]
  },
  {
   "cell_type": "code",
   "execution_count": 8,
   "metadata": {},
   "outputs": [],
   "source": [
    "# init signal and logger\n",
    "# signal\n",
    "signal = libmetawear.mbl_mw_acc_get_acceleration_data_signal(device.board)\n",
    "# logger\n",
    "logger = create_voidp(lambda fn:libmetawear.mbl_mw_datasignal_log(signal, None, fn), resource = \"acc_logger\")"
   ]
  },
  {
   "cell_type": "code",
   "execution_count": null,
   "metadata": {},
   "outputs": [],
   "source": [
    "# acc configuration\n",
    "acc_frequency = 25.0\n",
    "acc_range = 4.0\n",
    "libmetawear.mbl_mw_acc_set_odr(device.board, acc_frequency)\n",
    "libmetawear.mbl_mw_acc_set_odr(device.board, acc_range)\n",
    "libmetawear.mbl_mw_acc_write_acceleration_config(device.board);"
   ]
  },
  {
   "cell_type": "code",
   "execution_count": null,
   "metadata": {},
   "outputs": [],
   "source": [
    "# connection setting\n",
    "libmetawear.mbl_mw_settings_set_connection_parameters(device.board, 7.5, 7.5, 0, 6000)\n",
    "sleep(1.0)"
   ]
  },
  {
   "cell_type": "code",
   "execution_count": null,
   "metadata": {},
   "outputs": [],
   "source": [
    "# downloading data setting\n",
    "print(\"Downloading data\")\n",
    "# progress_update_handler\n",
    "e = Event()\n",
    "def progress_update_handler(context, entries_left, total_entries):\n",
    "    if (entries_left == 0):\n",
    "        e.set()\n",
    "            \n",
    "fn_wrapper = FnVoid_VoidP_UInt_UInt(progress_update_handler) # wrap function    \n",
    "download_handler = LogDownloadHandler(context = None, \\\n",
    "                                     received_progress_update = fn_wrapper, \\\n",
    "                                     received_unknown_entry = cast(None, FnVoid_VoidP_UByte_Long_UByteP_UByte), \\\n",
    "                                     received_unhandled_entry = cast(None, FnVoid_VoidP_DataP))\n",
    "# data callback function\n",
    "callback = FnVoid_VoidP_DataP(lambda ctx, p: print(\"{epoch: %d, value: %s}\" % (p.contents.epoch, parse_value(p))))\n"
   ]
  },
  {
   "cell_type": "code",
   "execution_count": null,
   "metadata": {},
   "outputs": [],
   "source": [
    "# start log and acc sampling\n",
    "libmetawear.mbl_mw_logging_start(device.board,0)\n",
    "libmetawear.mbl_mw_acc_enable_acceleration_sampling(device.board)\n",
    "libmetawear.mbl_mw_acc_start(device.board)\n",
    "print(\"start sampling data\")\n",
    "# wait to log\n",
    "logging_time = 2.0\n",
    "sleep(logging_time)\n",
    "# stop logging\n",
    "libmetawear.mbl_mw_acc_stop(device.board)\n",
    "libmetawear.mbl_mw_acc_disable_acceleration_sampling(device.board)\n",
    "libmetawear.mbl_mw_logging_stop(device.board)"
   ]
  },
  {
   "cell_type": "code",
   "execution_count": null,
   "metadata": {},
   "outputs": [],
   "source": [
    "# downloading data\n",
    "libmetawear.mbl_mw_logger_subscribe(logger, None, callback)\n",
    "libmetawear.mbl_mw_logging_download(device.board, 0, byref(download_handler))\n",
    "e.wait()"
   ]
  },
  {
   "cell_type": "code",
   "execution_count": 19,
   "metadata": {},
   "outputs": [
    {
     "name": "stdout",
     "output_type": "stream",
     "text": [
      "Device information: {'model': '5', 'hardware': '0.3', 'manufacturer': 'MbientLab Inc', 'serial': '049954', 'firmware': '1.4.2'}\n",
      "Device connet to: <bound method MetaWear.connect of <mbientlab.metawear.metawear.MetaWear object at 0x0000017D3F1D35F8>>\n",
      "Device isconnet: True\n",
      "Device ondisconnet: None\n"
     ]
    }
   ],
   "source": [
    "# device info and status check\n",
    "print(\"Device information: \" + str(device.info))\n",
    "print(\"Device connet to: \" + str(device.connect))\n",
    "print(\"Device isconnet: \" + str(device.is_connected))\n",
    "print(\"Device ondisconnet: \" + str(device.on_disconnect))"
   ]
  },
  {
   "cell_type": "code",
   "execution_count": null,
   "metadata": {},
   "outputs": [],
   "source": [
    "try:\n",
    "    # acc configuration\n",
    "    acc_frequency = 25.0\n",
    "    acc_range = 4.0\n",
    "    libmetawear.mbl_mw_acc_set_odr(device.board, acc_frequency)\n",
    "    libmetawear.mbl_mw_acc_set_odr(device.board, acc_range)\n",
    "    libmetawear.mbl_mw_acc_write_acceleration_config(device.board);\n",
    "    # init signal and logger\n",
    "    # signal\n",
    "    signal = libmetawear.mbl_mw_acc_get_acceleration_data_signal(device.board)\n",
    "    # logger\n",
    "    logger = create_voidp(lambda fn:libmetawear.mbl_mw_datasignal_log(signal, None, fn), resource = \"acc_logger\")\n",
    "    \n",
    "    # start log and acc sampling\n",
    "    libmetawear.mbl_mw_logging_start(device.board,0)\n",
    "    libmetawear.mbl_mw_acc_enable_acceleration_sampling(device.board)\n",
    "    libmetawear.mbl_mw_acc_start(device.board)\n",
    "    print(\"start sampling data\")\n",
    "    # wait to log\n",
    "    logging_time = 2.0\n",
    "    sleep(logging_time)\n",
    "    \n",
    "    # stop logging\n",
    "    libmetawear.mbl_mw_acc_stop(device.board)\n",
    "    libmetawear.mbl_mw_acc_disable_acceleration_sampling(device.board)\n",
    "    libmetawear.mbl_mw_logging_stop(device.board)\n",
    "    \n",
    "    # downloading data\n",
    "    print(\"Downloading data\")\n",
    "    libmetawear.mbl_mw_settings_set_connection_parameters(device.board, 7.5, 7.5, 0, 6000)\n",
    "    sleep(1.0)\n",
    "    \n",
    "    # download handler\n",
    "    # progress_update_handler\n",
    "    e = Event()\n",
    "    def progress_update_handler(context, entries_left, total_entries):\n",
    "        if (entries_left == 0):\n",
    "            e.set()\n",
    "            \n",
    "    fn_wrapper = FnVoid_VoidP_UInt_UInt(progress_update_handler) # wrap function\n",
    "    \n",
    "    download_handler = LogDownloadHandler(context = None, \\\n",
    "                                         received_progress_update = fn_wrapper, \\\n",
    "                                         received_unknown_entry = cast(None, FnVoid_VoidP_UByte_Long_UByteP_UByte), \\\n",
    "                                         received_unhandled_entry = cast(None, FnVoid_VoidP_DataP))\n",
    "    callback = FnVoid_VoidP_DataP(lambda ctx, p: print(\"{epoch: %d, value: %s}\" % (p.contents.epoch, parse_value(p))))\n",
    "    libmetawear.mbl_mw_logger_subscribe(logger, None, callback)\n",
    "    libmetawear.mbl_mw_logging_download(device.board, 0, byref(download_handler))\n",
    "    e.wait()\n",
    "except RuntimeError as err:\n",
    "\n",
    "    print(err)\n",
    "\n",
    "finally:\n",
    "\n",
    "    print(\"Resetting device\")\n",
    "\n",
    "    e = Event()\n",
    "\n",
    "    device.on_disconnect = lambda status: e.set()\n",
    "    # reset board setting and disconnect\n",
    "    libmetawear.mbl_mw_debug_reset(device.board)\n",
    "\n",
    "    e.wait()"
   ]
  },
  {
   "cell_type": "code",
   "execution_count": null,
   "metadata": {},
   "outputs": [],
   "source": [
    "# get chosed devices mac address                    \n",
    "address = list(devices)[selection]\n",
    "                    \n",
    "print(\"Connecting to %s...\" % (address))\n",
    "# connect to device                   \n",
    "device = MetaWear(address)\n",
    "device.connect()\n",
    "print(\"Connected\")\n",
    "\n",
    "print(\"Device information: \" + str(device.info))\n",
    "         "
   ]
  },
  {
   "cell_type": "code",
   "execution_count": null,
   "metadata": {},
   "outputs": [],
   "source": [
    "# signal\n",
    "signal = libmetawear.mbl_mw_acc_get_acceleration_data_signal(device.board)\n",
    "# logger\n",
    "logger = create_voidp(lambda fn:libmetawear.mbl_mw_datasignal_log(signal, None, fn), resource = \"acc_logger\")\n",
    "libmetawear.mbl_mw_logging_start(device.board,0)\n",
    "    \n",
    "# start acc sampling\n",
    "libmetawear.mbl_mw_acc_enable_acceleration_sampling(device.board)\n",
    "libmetawear.mbl_mw_acc_start(device.board)\n",
    "print(\"start sampling data\")\n",
    " # wait to log\n",
    "logging_time = 2.0\n",
    "sleep(logging_time)\n",
    "    \n",
    "# stop logging\n",
    "libmetawear.mbl_mw_acc_stop(device.board)\n",
    "libmetawear.mbl_mw_acc_disable_acceleration_sampling(device.board)\n",
    "libmetawear.mbl_mw_logging_stop(device.board)\n",
    "    \n",
    "# downloading data\n",
    "print(\"Downloading data\")\n",
    "libmetawear.mbl_mw_settings_set_connection_parameters(device.board, 7.5, 7.5, 0, 6000)\n",
    "sleep(1.0)\n",
    "e = Event()\n",
    "def progress_update_handler(context, entries_left, total_entries):\n",
    "    if (entries_left == 0):\n",
    "        e.set()\n",
    "            \n",
    "fn_wrapper = FnVoid_VoidP_UInt_UInt(progress_update_handler) # wrap function\n",
    "download_handler = LogDownloadHandler(context = None, \\\n",
    "                                    received_progress_update = fn_wrapper, \\\n",
    "                                    received_unknown_entry = cast(None, FnVoid_VoidP_UByte_Long_UByteP_UByte), \\\n",
    "                                    received_unhandled_entry = cast(None, FnVoid_VoidP_DataP))\n",
    "callback = FnVoid_VoidP_DataP(lambda ctx, p: print(\"{epoch: %d, value: %s}\" % (p.contents.epoch, parse_value(p))))\n",
    "libmetawear.mbl_mw_logger_subscribe(logger, None, callback)\n",
    "libmetawear.mbl_mw_logging_download(device.board, 0, byref(download_handler))\n",
    "e.wait()"
   ]
  },
  {
   "cell_type": "code",
   "execution_count": null,
   "metadata": {},
   "outputs": [],
   "source": [
    "# start acc sampling\n",
    "libmetawear.mbl_mw_logging_start(device.board,0)\n",
    "libmetawear.mbl_mw_acc_enable_acceleration_sampling(device.board)\n",
    "libmetawear.mbl_mw_acc_start(device.board)\n",
    "print(\"start sampling data\")\n",
    " # wait to log\n",
    "logging_time = 1.0\n",
    "sleep(logging_time)\n",
    "    \n",
    "# stop logging\n",
    "libmetawear.mbl_mw_acc_stop(device.board)\n",
    "libmetawear.mbl_mw_acc_disable_acceleration_sampling(device.board)\n",
    "libmetawear.mbl_mw_logging_stop(device.board)\n",
    "    \n",
    "# downloading data\n",
    "print(\"Downloading data\")\n",
    "libmetawear.mbl_mw_settings_set_connection_parameters(device.board, 7.5, 7.5, 0, 6000)\n",
    "sleep(1.0)\n",
    "e = Event()\n",
    "libmetawear.mbl_mw_logger_subscribe(logger, None, callback)\n",
    "libmetawear.mbl_mw_logging_download(device.board, 0, byref(download_handler))\n",
    "e.wait()"
   ]
  },
  {
   "cell_type": "code",
   "execution_count": null,
   "metadata": {},
   "outputs": [],
   "source": [
    "device.disconnect()\n",
    "sleep(1.0)\n",
    "print(\"Disconnected\")         "
   ]
  },
  {
   "cell_type": "code",
   "execution_count": null,
   "metadata": {},
   "outputs": [],
   "source": []
  }
 ],
 "metadata": {
  "kernelspec": {
   "display_name": "Python 3",
   "language": "python",
   "name": "python3"
  },
  "language_info": {
   "codemirror_mode": {
    "name": "ipython",
    "version": 3
   },
   "file_extension": ".py",
   "mimetype": "text/x-python",
   "name": "python",
   "nbconvert_exporter": "python",
   "pygments_lexer": "ipython3",
   "version": "3.6.2"
  }
 },
 "nbformat": 4,
 "nbformat_minor": 2
}

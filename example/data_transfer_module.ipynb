{
 "cells": [
  {
   "cell_type": "code",
   "execution_count": 1,
   "metadata": {},
   "outputs": [],
   "source": [
    "# head module import\n",
    "from __future__ import print_function\n",
    "from mbientlab.metawear import MetaWear, libmetawear, parse_value, create_voidp, create_voidp_int\n",
    "from mbientlab.metawear.cbindings import *\n",
    "from mbientlab.warble import * \n",
    "from threading import Event\n",
    "from time import sleep\n",
    "\n",
    "import csv\n",
    "import time\n",
    "import platform\n",
    "import six # six is lib to coordinate py2 and py3\n",
    "import sys"
   ]
  },
  {
   "cell_type": "code",
   "execution_count": 5,
   "metadata": {},
   "outputs": [],
   "source": [
    "def scanning_device(scan_time):\n",
    "    selection = -1\n",
    "    while selection == -1:\n",
    "        print(\"scanning for devices...\")\n",
    "        devices = {}\n",
    "        # def scanner's result handler, add result to dvices\n",
    "        def handler(result):\n",
    "            devices[result.mac] = result.name\n",
    "\n",
    "        BleScanner.set_handler(handler)\n",
    "        BleScanner.start()\n",
    "        # set scan time, waiting to scan;\n",
    "        sleep(scan_time)\n",
    "        BleScanner.stop()\n",
    "\n",
    "        #select which to connect\n",
    "        devices_index = 0\n",
    "        for address, name in six.iteritems(devices):\n",
    "            print(\"[%d] %s (%s)\" % (devices_index, address, name))\n",
    "            devices_index += 1\n",
    "        msg = \"Select your device (-1 to rescan): \"\n",
    "        selection = int(raw_input(msg) if platform.python_version_tuple()[0] == '2'\n",
    "                        else input(msg))\n",
    "    address = list(devices)[selection]\n",
    "    return address\n",
    "\n",
    "def connect_to_device(address):\n",
    "    print(\"Connecting to %s...\" % (address))\n",
    "    # connect to device                   \n",
    "    device = MetaWear(address)\n",
    "    device.connect()\n",
    "    print(\"Connected\")\n",
    "    print(\"Device information: \" + str(device.info))\n",
    "    return device\n",
    "    \n",
    "def reset_device(device):\n",
    "    libmetawear.mbl_mw_debug_reset(device.board)\n",
    "    \n",
    "# acc configuration\n",
    "def acc_configuaration(device,acc_freq, acc_rng):\n",
    "    acc_frequency = acc_freq\n",
    "    acc_range = acc_rng\n",
    "    libmetawear.mbl_mw_acc_set_odr(device.board, acc_frequency)\n",
    "    libmetawear.mbl_mw_acc_set_odr(device.board, acc_range)\n",
    "    libmetawear.mbl_mw_acc_write_acceleration_config(device.board);\n",
    "    print(\"set acc frequency [%d], acc range [%d]\" %(acc_freq, acc_rng))\n",
    "    \n",
    "# init signal and logger\n",
    "def init_acc_signal_logger(device):\n",
    "    # signal\n",
    "    signal = libmetawear.mbl_mw_acc_get_acceleration_data_signal(device.board)\n",
    "    # logger\n",
    "    logger = create_voidp(lambda fn:libmetawear.mbl_mw_datasignal_log(signal, None, fn), resource = \"acc_logger\")\n",
    "    print(\"finished init acc_signal and logger \")\n",
    "    return logger\n",
    "\n",
    "# connection setting\n",
    "def init_connection_setting(device):\n",
    "    libmetawear.mbl_mw_settings_set_connection_parameters(device.board, 7.5, 7.5, 0, 6000)\n",
    "    sleep(1.0)\n",
    "    print(\"finished connection setting\")\n",
    "\n",
    "# start log and acc sampling\n",
    "def sampling_and_log_acc(device,time):\n",
    "    libmetawear.mbl_mw_logging_start(device.board,0)\n",
    "    libmetawear.mbl_mw_acc_enable_acceleration_sampling(device.board)\n",
    "    libmetawear.mbl_mw_acc_start(device.board)\n",
    "    print(\"start sampling data\")\n",
    "    # wait to log\n",
    "    logging_time = time\n",
    "    sleep(logging_time)\n",
    "    # stop logging\n",
    "    print(\"stop sampling data\")\n",
    "    libmetawear.mbl_mw_acc_stop(device.board)\n",
    "    libmetawear.mbl_mw_acc_disable_acceleration_sampling(device.board)\n",
    "    libmetawear.mbl_mw_logging_stop(device.board)\n",
    "\n",
    "# downloading data setting\n",
    "def init_download_data_setting():\n",
    "    print(\"Setting Download data\")\n",
    "    # progress_update_handler\n",
    "    global e\n",
    "    e = Event()\n",
    "    def progress_update_handler(context, entries_left, total_entries):\n",
    "        if (entries_left == 0):\n",
    "            e.set()\n",
    "            print(\"Finished download data\")\n",
    "            \n",
    "    fn_wrapper = FnVoid_VoidP_UInt_UInt(progress_update_handler) # wrap function    \n",
    "    download_handler = LogDownloadHandler(context = None, \\\n",
    "                                     received_progress_update = fn_wrapper, \\\n",
    "                                     received_unknown_entry = cast(None, FnVoid_VoidP_UByte_Long_UByteP_UByte), \\\n",
    "                                     received_unhandled_entry = cast(None, FnVoid_VoidP_DataP))\n",
    "    # data callback function\n",
    "    def data_callback(context, p):\n",
    "        print(\"{epoch: %d, value: %s}\" % (p.contents.epoch, parse_value(p)))\n",
    "        data = parse_value(p)\n",
    "        filename = cast(context,c_wchar_p)\n",
    "        csvfile = open(filename.value, 'a',newline='')\n",
    "        writer = csv.writer(csvfile)\n",
    "        writer.writerow([p.contents.epoch,data.x, data.y,data.z])\n",
    "      \n",
    "    # callback = FnVoid_VoidP_DataP(lambda ctx, p: print(\"{epoch: %d, value: %s}\" % (p.contents.epoch, parse_value(p))))\n",
    "    callback = FnVoid_VoidP_DataP(data_callback)\n",
    "    print(\"finished init download setting \")\n",
    "    return [download_handler, callback]\n",
    "\n",
    "# downloading data\n",
    "def downloading_data(device,logger,callback,download_handler):\n",
    "    print(\"Downloading data\")\n",
    "    timestamp = time.strftime(\"%y_%m_%d_%H_%M_%S\")\n",
    "    print(type(timestamp))\n",
    "    print(timestamp)\n",
    "    filename_ = ('acc_data_%s.csv'%timestamp)\n",
    "    csvfile = open(filename_, 'w',newline='')\n",
    "    filename = c_wchar_p(filename_)\n",
    "    libmetawear.mbl_mw_logger_subscribe(logger, filename, callback)\n",
    "    # libmetawear.mbl_mw_logger_subscribe(logger, filename, callback)\n",
    "    libmetawear.mbl_mw_logging_download(device.board, 0, byref(download_handler))\n",
    "    \n",
    "    e.wait()"
   ]
  },
  {
   "cell_type": "code",
   "execution_count": 2,
   "metadata": {},
   "outputs": [],
   "source": [
    "# check python version\n",
    "if sys.version_info[0] == 2:\n",
    "\n",
    "    range = xrange"
   ]
  },
  {
   "cell_type": "code",
   "execution_count": 6,
   "metadata": {},
   "outputs": [
    {
     "name": "stdout",
     "output_type": "stream",
     "text": [
      "scanning for devices...\n",
      "[0] F1:3E:CC:8F:98:89 (MetaWear)\n",
      "[1] 50:AB:36:F8:78:21 ()\n",
      "[2] F9:C7:50:6F:77:60 ()\n",
      "[3] BC:3D:85:EE:BB:56 ()\n",
      "Select your device (-1 to rescan): 0\n",
      "Connecting to F1:3E:CC:8F:98:89...\n",
      "Connected\n",
      "Device information: {'model': '5', 'hardware': '0.3', 'manufacturer': 'MbientLab Inc', 'serial': '049954', 'firmware': '1.4.2'}\n",
      "set acc frequency [25], acc range [4]\n",
      "finished connection setting\n",
      "finished init acc_signal and logger \n"
     ]
    }
   ],
   "source": [
    "# device scan and connect\n",
    "scan_time = 10.0\n",
    "address = scanning_device(scan_time)\n",
    "device = connect_to_device(address)\n",
    "\n",
    "\n",
    "logger = None\n",
    "callback = None\n",
    "download_handler = None\n",
    "e = None\n",
    "acc_configuaration(device,25.0,4.0)\n",
    "init_connection_setting(device)\n",
    "logger = init_acc_signal_logger(device)"
   ]
  },
  {
   "cell_type": "code",
   "execution_count": 7,
   "metadata": {},
   "outputs": [
    {
     "name": "stdout",
     "output_type": "stream",
     "text": [
      "Setting Download data\n",
      "finished init download setting \n",
      "start sampling data\n",
      "stop sampling data\n",
      "Downloading data\n",
      "<class 'str'>\n",
      "19_03_13_21_09_19\n",
      "{epoch: 1552482554933, value: {x : -0.085, y : -0.027, z : -0.999}}\n",
      "{epoch: 1552482555258, value: {x : -0.077, y : -0.016, z : -1.004}}\n",
      "{epoch: 1552482555582, value: {x : -0.078, y : -0.029, z : -1.006}}\n",
      "{epoch: 1552482555905, value: {x : -0.076, y : -0.017, z : -1.011}}\n",
      "{epoch: 1552482556229, value: {x : -0.078, y : -0.024, z : -1.004}}\n",
      "{epoch: 1552482556554, value: {x : 0.011, y : -0.015, z : -1.016}}\n",
      "{epoch: 1552482556878, value: {x : -0.027, y : -0.204, z : -0.950}}\n",
      "{epoch: 1552482557202, value: {x : -0.581, y : -0.696, z : -0.490}}\n",
      "{epoch: 1552482557525, value: {x : -0.103, y : 0.593, z : 0.740}}\n",
      "{epoch: 1552482557851, value: {x : 0.115, y : 0.625, z : 0.910}}\n",
      "{epoch: 1552482558174, value: {x : -0.091, y : 0.585, z : 1.026}}\n",
      "{epoch: 1552482558498, value: {x : -0.350, y : -0.106, z : 0.664}}\n",
      "{epoch: 1552482558823, value: {x : -0.735, y : -0.555, z : 0.847}}\n",
      "{epoch: 1552482559147, value: {x : -0.612, y : -0.433, z : 0.882}}\n",
      "{epoch: 1552482559471, value: {x : -0.655, y : 0.556, z : 0.592}}\n",
      "{epoch: 1552482559794, value: {x : -0.995, y : 0.076, z : 0.265}}\n",
      "Finished download data\n"
     ]
    }
   ],
   "source": [
    "download_setting = init_download_data_setting()\n",
    "download_handler = download_setting[0]\n",
    "callback = download_setting[1]\n",
    "sample_time = 5.0\n",
    "sampling_and_log_acc(device,sample_time)\n",
    "downloading_data(device,logger,callback,download_handler)\n"
   ]
  },
  {
   "cell_type": "code",
   "execution_count": 9,
   "metadata": {},
   "outputs": [
    {
     "name": "stdout",
     "output_type": "stream",
     "text": [
      "start sampling data\n",
      "stop sampling data\n"
     ]
    }
   ],
   "source": [
    "sampling_and_log_acc(device,sample_time)\n"
   ]
  },
  {
   "cell_type": "code",
   "execution_count": 10,
   "metadata": {},
   "outputs": [
    {
     "name": "stdout",
     "output_type": "stream",
     "text": [
      "Downloading data\n",
      "<class 'str'>\n",
      "19_03_13_21_10_22\n",
      "{epoch: 1552482601940, value: {x : -0.043, y : -0.028, z : 1.024}}\n",
      "{epoch: 1552482602263, value: {x : -0.045, y : 0.087, z : 0.998}}\n",
      "{epoch: 1552482602587, value: {x : -0.041, y : -0.037, z : 1.024}}\n",
      "{epoch: 1552482602911, value: {x : -0.048, y : -0.232, z : 1.359}}\n",
      "{epoch: 1552482603236, value: {x : -0.371, y : 0.081, z : -0.486}}\n",
      "{epoch: 1552482603560, value: {x : -0.576, y : -0.895, z : -0.186}}\n",
      "{epoch: 1552482603883, value: {x : -0.426, y : -0.656, z : -0.498}}\n",
      "{epoch: 1552482604207, value: {x : -0.364, y : -0.217, z : -0.956}}\n",
      "{epoch: 1552482604531, value: {x : -0.324, y : 0.724, z : -0.566}}\n",
      "{epoch: 1552482604855, value: {x : 0.004, y : 0.809, z : -0.634}}\n",
      "{epoch: 1552482605180, value: {x : -0.295, y : 0.318, z : -1.016}}\n",
      "{epoch: 1552482605503, value: {x : -0.607, y : -0.281, z : -1.182}}\n",
      "{epoch: 1552482605827, value: {x : -0.376, y : -0.753, z : -0.729}}\n",
      "{epoch: 1552482606151, value: {x : -0.154, y : -0.704, z : -0.688}}\n",
      "{epoch: 1552482606475, value: {x : 0.052, y : -0.435, z : -0.865}}\n",
      "{epoch: 1552482606800, value: {x : 0.062, y : -0.519, z : -0.786}}\n",
      "{epoch: 1552482612633, value: {x : -0.500, y : -0.212, z : -0.872}}\n",
      "{epoch: 1552482612957, value: {x : 0.116, y : -0.439, z : -0.817}}\n",
      "{epoch: 1552482613282, value: {x : -0.519, y : -0.981, z : -0.640}}\n",
      "{epoch: 1552482613606, value: {x : -0.084, y : -1.052, z : -0.559}}\n",
      "{epoch: 1552482613929, value: {x : 0.102, y : -0.438, z : -0.783}}\n",
      "{epoch: 1552482614253, value: {x : -0.305, y : -0.545, z : -0.952}}\n",
      "{epoch: 1552482614577, value: {x : -0.649, y : -0.932, z : -0.537}}\n",
      "{epoch: 1552482614900, value: {x : -0.391, y : -0.902, z : -0.468}}\n",
      "{epoch: 1552482615224, value: {x : -0.030, y : -0.611, z : -0.761}}\n",
      "{epoch: 1552482615549, value: {x : -0.318, y : -0.443, z : -1.012}}\n",
      "{epoch: 1552482615873, value: {x : -0.206, y : -0.903, z : -1.003}}\n",
      "{epoch: 1552482616197, value: {x : -0.143, y : -0.162, z : -0.672}}\n",
      "{epoch: 1552482616521, value: {x : -0.399, y : 0.101, z : -0.740}}\n",
      "{epoch: 1552482616844, value: {x : -0.490, y : -0.666, z : -1.242}}\n",
      "{epoch: 1552482617168, value: {x : -0.837, y : -0.511, z : -0.418}}\n",
      "Finished download data\n"
     ]
    }
   ],
   "source": [
    "downloading_data(device,logger,callback,download_handler)"
   ]
  },
  {
   "cell_type": "code",
   "execution_count": 11,
   "metadata": {},
   "outputs": [],
   "source": [
    "reset_device(device)"
   ]
  },
  {
   "cell_type": "code",
   "execution_count": null,
   "metadata": {},
   "outputs": [],
   "source": [
    "def device_status_info(device):\n",
    "    # device info and status check\n",
    "    print(\"Device information: \" + str(device.info))\n",
    "    print(\"Device connet to: \" + str(device.connect))\n",
    "    print(\"Device isconnet: \" + str(device.is_connected))\n",
    "    print(\"Device ondisconnet: \" + str(device.on_disconnect))"
   ]
  }
 ],
 "metadata": {
  "kernelspec": {
   "display_name": "Python 3",
   "language": "python",
   "name": "python3"
  },
  "language_info": {
   "codemirror_mode": {
    "name": "ipython",
    "version": 3
   },
   "file_extension": ".py",
   "mimetype": "text/x-python",
   "name": "python",
   "nbconvert_exporter": "python",
   "pygments_lexer": "ipython3",
   "version": "3.6.2"
  }
 },
 "nbformat": 4,
 "nbformat_minor": 2
}

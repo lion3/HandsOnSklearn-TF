{
 "cells": [
  {
   "cell_type": "code",
   "execution_count": 75,
   "metadata": {},
   "outputs": [],
   "source": [
    "class Base():\n",
    "    '''class con/destruction method'''\n",
    "    def __init__(self): # 前后两个下滑线“__X__”表示专有\n",
    "        \"\"\"do some initialization\"\"\"\n",
    "        print(str(id(self))+\" init here\")\n",
    "        self.m_data = \"self_m_data\"\n",
    "    #def __del__(self):\n",
    "    #    print(\"delete here\")\n",
    "    \"\"\"class data\"\"\"\n",
    "    c_data_1 = 1\n",
    "    c_data_2 = 'some_string'\n",
    "    \"\"\"class private member\"\"\"\n",
    "    __pvt_m = 'prv member' # 以两个下划线“__”开头表示私有方法或属性\n",
    "    \"\"\"class member func\"\"\"\n",
    "    def m_func_1(self):  # self 代表的是类的实例，而不是关键字\n",
    "        \n",
    "        print(\"m_func_1\"+self.__pvt_m)\n",
    "    def m_func_2(self):\n",
    "        return \"m_func_2\"\n",
    "    \"\"\"\n",
    "    可重载基础数学运算符号 +,-,*,/,%,** __add__,sub,mul,truediv,mod,pow\n",
    "    专有函数长度，比较，打印，函数调用\n",
    "    \"\"\"\n",
    "class Derived(Base):\n",
    "    def __init__(self,b):\n",
    "        self.data = b.m_data"
   ]
  },
  {
   "cell_type": "code",
   "execution_count": 80,
   "metadata": {},
   "outputs": [
    {
     "name": "stdout",
     "output_type": "stream",
     "text": [
      "3215645029768 init here\n",
      "5\n",
      "3\n",
      "3215645029824 init here\n",
      "4\n",
      "3\n",
      "self_m_data\n",
      "self_m_data\n",
      "hello\n",
      "hello\n"
     ]
    },
    {
     "ename": "AttributeError",
     "evalue": "'Derived' object has no attribute 'b'",
     "output_type": "error",
     "traceback": [
      "\u001b[1;31m---------------------------------------------------------------------------\u001b[0m",
      "\u001b[1;31mAttributeError\u001b[0m                            Traceback (most recent call last)",
      "\u001b[1;32m<ipython-input-80-82878a3efd99>\u001b[0m in \u001b[0;36m<module>\u001b[1;34m\u001b[0m\n\u001b[0;32m     15\u001b[0m \u001b[0md\u001b[0m \u001b[1;33m=\u001b[0m \u001b[0mDerived\u001b[0m\u001b[1;33m(\u001b[0m\u001b[0mb\u001b[0m\u001b[1;33m)\u001b[0m\u001b[1;33m\u001b[0m\u001b[0m\n\u001b[0;32m     16\u001b[0m \u001b[0mprint\u001b[0m\u001b[1;33m(\u001b[0m\u001b[0md\u001b[0m\u001b[1;33m.\u001b[0m\u001b[0mdata\u001b[0m\u001b[1;33m)\u001b[0m\u001b[1;33m\u001b[0m\u001b[0m\n\u001b[1;32m---> 17\u001b[1;33m \u001b[0mprint\u001b[0m\u001b[1;33m(\u001b[0m\u001b[0md\u001b[0m\u001b[1;33m.\u001b[0m\u001b[0mb\u001b[0m\u001b[1;33m.\u001b[0m\u001b[0mm_data\u001b[0m\u001b[1;33m)\u001b[0m\u001b[1;33m\u001b[0m\u001b[0m\n\u001b[0m",
      "\u001b[1;31mAttributeError\u001b[0m: 'Derived' object has no attribute 'b'"
     ]
    }
   ],
   "source": [
    "b = Base()\n",
    "print(b.c_data_1) # 对象可以访问类变量\n",
    "b.c_data_1 = 3 # 对象访问修改后变成对象变量了\n",
    "Base.c_data_1 = 4 # 类修改类变量\n",
    "print(b.c_data_1)\n",
    "a = Base()\n",
    "print(a.c_data_1)\n",
    "Base.c_data_1 = 5\n",
    "print(b.c_data_1)\n",
    "\n",
    "print(b.m_data)\n",
    "b.m_data =\"hello\"\n",
    "print(a.m_data)\n",
    "print(b.m_data)\n",
    "d = Derived(b)\n",
    "print(d.data)\n"
   ]
  },
  {
   "cell_type": "code",
   "execution_count": null,
   "metadata": {},
   "outputs": [],
   "source": []
  }
 ],
 "metadata": {
  "kernelspec": {
   "display_name": "Python 3",
   "language": "python",
   "name": "python3"
  },
  "language_info": {
   "codemirror_mode": {
    "name": "ipython",
    "version": 3
   },
   "file_extension": ".py",
   "mimetype": "text/x-python",
   "name": "python",
   "nbconvert_exporter": "python",
   "pygments_lexer": "ipython3",
   "version": "3.6.2"
  }
 },
 "nbformat": 4,
 "nbformat_minor": 2
}

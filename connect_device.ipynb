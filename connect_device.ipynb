{
 "cells": [
  {
   "cell_type": "code",
   "execution_count": 2,
   "metadata": {},
   "outputs": [],
   "source": [
    "from mbientlab.metawear import MetaWear, libmetawear\n",
    "from mbientlab.metawear.cbindings import *"
   ]
  },
  {
   "cell_type": "code",
   "execution_count": 3,
   "metadata": {},
   "outputs": [],
   "source": [
    "from mbientlab.warble import *\n",
    "from mbientlab.metawear import *\n",
    "from threading import Event"
   ]
  },
  {
   "cell_type": "code",
   "execution_count": 5,
   "metadata": {},
   "outputs": [],
   "source": [
    "e = Event()\n",
    "# MACaddress for my metawear is F1:3E:CC:8F:98:89\n",
    "address = None\n",
    "def device_discover_task(result):\n",
    "    global address\n",
    "    if (result.has_service_uuid(MetaWear.GATT_SERVICE)):\n",
    "        # grab the first discovered metawear device\n",
    "        address = result.mac\n",
    "        e.set()\n",
    "BleScanner.set_handler(device_discover_task)\n",
    "BleScanner.start()\n",
    "e.wait()\n",
    "\n",
    "BleScanner.stop()"
   ]
  },
  {
   "cell_type": "code",
   "execution_count": 6,
   "metadata": {},
   "outputs": [],
   "source": [
    "device = MetaWear(address)\n",
    "device.connect()"
   ]
  },
  {
   "cell_type": "code",
   "execution_count": 7,
   "metadata": {},
   "outputs": [],
   "source": [
    "pattern= LedPattern(repeat_count= Const.LED_REPEAT_INDEFINITELY)\n",
    "libmetawear.mbl_mw_led_load_preset_pattern(byref(pattern), LedPreset.BLINK)\n",
    "libmetawear.mbl_mw_led_write_pattern(device.board, byref(pattern), LedColor.GREEN)\n",
    "libmetawear.mbl_mw_led_play(device.board)"
   ]
  },
  {
   "cell_type": "code",
   "execution_count": 13,
   "metadata": {},
   "outputs": [],
   "source": [
    "pattern= LedPattern(repeat_count= 10)\n",
    "libmetawear.mbl_mw_led_load_preset_pattern(byref(pattern), LedPreset.BLINK)\n",
    "libmetawear.mbl_mw_led_write_pattern(device.board, byref(pattern), LedColor.BLUE)\n",
    "libmetawear.mbl_mw_led_play(device.board)"
   ]
  },
  {
   "cell_type": "code",
   "execution_count": null,
   "metadata": {},
   "outputs": [],
   "source": [
    "libmetawear.mbl_mw_metawearboard_create\n",
    "libmetawear.mbl_mw_metawearboard_initialize\n",
    "libmetawear.mbl_mw_metawearboard_is_initialized\n",
    "dev_info = libmetawear.mbl_mw_metawearboard_get_device_information\n",
    "libmetawear.mbl_mw_metawearboard_lookup_module\n",
    "libmetawear.mbl_mw_metawearboard_free"
   ]
  },
  {
   "cell_type": "code",
   "execution_count": 14,
   "metadata": {},
   "outputs": [],
   "source": [
    "device.disconnect()"
   ]
  },
  {
   "cell_type": "code",
   "execution_count": null,
   "metadata": {},
   "outputs": [],
   "source": []
  }
 ],
 "metadata": {
  "kernelspec": {
   "display_name": "Python 3",
   "language": "python",
   "name": "python3"
  },
  "language_info": {
   "codemirror_mode": {
    "name": "ipython",
    "version": 3
   },
   "file_extension": ".py",
   "mimetype": "text/x-python",
   "name": "python",
   "nbconvert_exporter": "python",
   "pygments_lexer": "ipython3",
   "version": "3.6.2"
  }
 },
 "nbformat": 4,
 "nbformat_minor": 2
}
